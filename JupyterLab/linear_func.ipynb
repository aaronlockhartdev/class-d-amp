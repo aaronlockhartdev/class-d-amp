{
 "cells": [
  {
   "cell_type": "code",
   "execution_count": 1,
   "id": "3a1ab5f2-273c-4d2b-8ffe-6043a951214d",
   "metadata": {},
   "outputs": [],
   "source": [
    "%%capture\n",
    "\n",
    "!pip install -r requirements.txt -U"
   ]
  },
  {
   "cell_type": "code",
   "execution_count": 2,
   "id": "dda4af61-6763-474a-a36c-a1ffd982c262",
   "metadata": {
    "scrolled": true
   },
   "outputs": [],
   "source": [
    "# Install and import necessary packages\n",
    "\n",
    "import os\n",
    "import math\n",
    "import cmath\n",
    "import functools\n",
    "\n",
    "import numpy as np\n",
    "import control as ct\n",
    "import itertools as it\n",
    "import matplotlib.pyplot as plt\n",
    "\n",
    "from mpmath import mp\n",
    "from multiprocess import Pool\n",
    "from tqdm.notebook import tqdm"
   ]
  },
  {
   "cell_type": "code",
   "execution_count": 18,
   "id": "cc8fc33f-ab81-440e-99c9-d7296548407b",
   "metadata": {},
   "outputs": [],
   "source": [
    "def simplify(H: ct.TransferFunction):\n",
    "    \"\"\" Takes a SISO transfer function `H` and cancels common factors in the numerator \n",
    "    and denominator. \"\"\"\n",
    "\n",
    "    fact = map(lambda x: np.flip(np.squeeze(x)), ct.tfdata(H))\n",
    "    fact = list(it.zip_longest(*fact, fillvalue=0))\n",
    "\n",
    "    for n, d in fact:\n",
    "        if n == 0 and d == 0:\n",
    "            fact.pop()\n",
    "        else:\n",
    "            break\n",
    "\n",
    "    num, den = map(lambda x: np.flip(np.array(x, dtype=np.double)), zip(*fact))\n",
    "\n",
    "    num /= den[-1]\n",
    "    den /= den[-1]\n",
    "\n",
    "    return ct.tf(num, den)\n",
    "\n",
    "def plot(H: ct.TransferFunction, fq_start: float, fq_end: float, H_prop=1e-12):\n",
    "    \"\"\" Takes a SISO transfer function `H` and plots phase response and loop gain vs. \n",
    "    frequency as well as oscillation frequency, and loop gain vs. duty cycle. \"\"\"\n",
    "\n",
    "    omega = np.logspace(math.floor(math.log10(fq_start)), math.ceil(math.log10(fq_end)), num=1000)\n",
    "\n",
    "    def infsum(func, n_start, *args, **kwargs):\n",
    "        mp.dps = 20\n",
    "        return lambda f: mp.nsum(functools.partial(func, f, *args, **kwargs), [n_start, mp.inf])\n",
    "\n",
    "    def phase(f, h, n):\n",
    "        return (H(2j * cmath.pi * f * n) *\n",
    "                cmath.exp(-H_prop * 2j * cmath.pi * f) *\n",
    "                (1 - cmath.exp(-2j * cmath.pi * n * h)) *\n",
    "                (1 - cmath.exp(2j * cmath.pi * n * h)) /\n",
    "                (2 * n))\n",
    "\n",
    "    ph_hs = [0.1, 0.2, 0.3, 0.4, 0.5]\n",
    "    ph_r = []\n",
    "\n",
    "    with Pool(os.cpu_count()) as p:\n",
    "        for h in ph_hs:\n",
    "            res = np.fromiter(tqdm(p.imap(infsum(phase, 1, h), omega), total=len(omega)), dtype=np.cdouble)\n",
    "            \n",
    "            ph_r.append(res := np.vectorize(cmath.phase)(res) * (180 / np.pi))\n",
    "\n",
    "            plt.plot(omega, res)\n",
    "            plt.xscale('log')\n",
    "\n",
    "    plt.show()\n"
   ]
  },
  {
   "cell_type": "markdown",
   "id": "d0647e9a-88b6-4a59-9226-43fafcd26db1",
   "metadata": {},
   "source": [
    "## Transfer Functions\n",
    "\n",
    "As per Bruno Putzey's 2011 paper titled [\"Global Modulated Self-Oscillating Amplifier with Improved Linearity\"](https://www.hypex.nl/media/3f/62/4a/1682342035/Globally%20modulated%20self-oscillating%20amplifier.pdf), we treat our Class-D amplifier as a square wave oscillator wrapped with a linear function. For simplicity's sake, we further split said linear function into three serial sections–the **propagation delay**, **low pass filter**, and **feedback network**. The **propagation delay** is calculated during numerical evaluation in order to avoid using a Padé approximation. Please define functions constructing transfer functions based on component values for the **low pass filter** and **feedback network** below."
   ]
  },
  {
   "cell_type": "code",
   "execution_count": 4,
   "id": "94fc8514-c46d-49a1-bb5c-e695f6717e85",
   "metadata": {},
   "outputs": [],
   "source": [
    "def lpf(L, C, R_load) -> ct.TransferFunction:\n",
    "    s = ct.tf('s')\n",
    "    \n",
    "    return R_load / (R_load * L * C * s**2 + L * s + R_load)\n",
    "\n",
    "def fbn_example(R_in, C_in, R_lead, C_lead, R_fb, R_sep) -> ct.TransferFunction:\n",
    "    s = ct.tf('s')\n",
    "\n",
    "    b = R_lead + 1 / (C_lead * s)\n",
    "\n",
    "    a = b + R_sep\n",
    "\n",
    "    H_n = R_in * (a + R_fb) / (R_fb * a + R_in * a + R_fb *  R_in * a * C_in * s + R_fb * R_in)\n",
    "    \n",
    "    H = (R_sep + H_n * b) / (R_sep + b)\n",
    "\n",
    "    return H\n",
    "\n",
    "def fbn2(R_in, R_fb, R_lead, C_lead, C_int, R1_int, R2_int, R_int) -> ct.TransferFunction:\n",
    "    s = ct.tf('s')\n",
    "    \n",
    "    a = R1_int * R2_int * C_int * R_int * C_lead  * (R_in + R_fb)\n",
    "    b = R2_int * ((R1_int * C_int * R_in * R_lead) + (R_in * R_int * C_lead) + (R_fb * R_int * C_lead))\n",
    "    bd = R2_int * R1_int * C_int * R_lead * R_fb\n",
    "    ca = (R1_int + R2_int) * R_in * R_lead\n",
    "    cb = (R_in + R_fb) * R2_int * R_lead\n",
    "\n",
    "    return (a * s**2 + b * s + ca)/(a * s**2 + (b + bd) * s + cb)\n",
    "    "
   ]
  },
  {
   "cell_type": "code",
   "execution_count": 19,
   "id": "ddbe94fc-cd15-42bd-9276-74fe5fd1cc1b",
   "metadata": {},
   "outputs": [
    {
     "name": "stdout",
     "output_type": "stream",
     "text": [
      "0.1\n"
     ]
    },
    {
     "data": {
      "application/vnd.jupyter.widget-view+json": {
       "model_id": "1c8afaa840d0420ea7f98ef7e0e684e0",
       "version_major": 2,
       "version_minor": 0
      },
      "text/plain": [
       "  0%|          | 0/1000 [00:00<?, ?it/s]"
      ]
     },
     "metadata": {},
     "output_type": "display_data"
    },
    {
     "name": "stdout",
     "output_type": "stream",
     "text": [
      "0.2\n"
     ]
    },
    {
     "data": {
      "application/vnd.jupyter.widget-view+json": {
       "model_id": "eaf749933692470f965959d3a9ce28ea",
       "version_major": 2,
       "version_minor": 0
      },
      "text/plain": [
       "  0%|          | 0/1000 [00:00<?, ?it/s]"
      ]
     },
     "metadata": {},
     "output_type": "display_data"
    },
    {
     "name": "stderr",
     "output_type": "stream",
     "text": [
      "Process ForkPoolWorker-68:\n",
      "Process ForkPoolWorker-61:\n",
      "Process ForkPoolWorker-63:\n",
      "Process ForkPoolWorker-62:\n",
      "Process ForkPoolWorker-70:\n",
      "Process ForkPoolWorker-69:\n",
      "Process ForkPoolWorker-67:\n",
      "Traceback (most recent call last):\n",
      "Traceback (most recent call last):\n",
      "Process ForkPoolWorker-65:\n"
     ]
    },
    {
     "ename": "KeyboardInterrupt",
     "evalue": "",
     "output_type": "error",
     "traceback": [
      "\u001b[0;31m---------------------------------------------------------------------------\u001b[0m",
      "\u001b[0;31mIndexError\u001b[0m                                Traceback (most recent call last)",
      "File \u001b[0;32m~/Documents/Class D Amplifier/JupyterLab/.venv/lib/python3.11/site-packages/multiprocess/pool.py:856\u001b[0m, in \u001b[0;36mIMapIterator.next\u001b[0;34m(self, timeout)\u001b[0m\n\u001b[1;32m    855\u001b[0m \u001b[38;5;28;01mtry\u001b[39;00m:\n\u001b[0;32m--> 856\u001b[0m     item \u001b[38;5;241m=\u001b[39m \u001b[38;5;28mself\u001b[39m\u001b[38;5;241m.\u001b[39m_items\u001b[38;5;241m.\u001b[39mpopleft()\n\u001b[1;32m    857\u001b[0m \u001b[38;5;28;01mexcept\u001b[39;00m \u001b[38;5;167;01mIndexError\u001b[39;00m:\n",
      "\u001b[0;31mIndexError\u001b[0m: pop from an empty deque",
      "\nDuring handling of the above exception, another exception occurred:\n",
      "\u001b[0;31mKeyboardInterrupt\u001b[0m                         Traceback (most recent call last)",
      "Cell \u001b[0;32mIn[19], line 1\u001b[0m\n\u001b[0;32m----> 1\u001b[0m \u001b[43mplot\u001b[49m\u001b[43m(\u001b[49m\u001b[43mlpf\u001b[49m\u001b[43m(\u001b[49m\u001b[38;5;241;43m30e-6\u001b[39;49m\u001b[43m,\u001b[49m\u001b[43m \u001b[49m\u001b[38;5;241;43m680e-9\u001b[39;49m\u001b[43m,\u001b[49m\u001b[43m \u001b[49m\u001b[38;5;241;43m4\u001b[39;49m\u001b[43m)\u001b[49m\u001b[43m \u001b[49m\u001b[38;5;241;43m*\u001b[39;49m\u001b[43m \u001b[49m\n\u001b[1;32m      2\u001b[0m \u001b[43m     \u001b[49m\u001b[43mfbn_example\u001b[49m\u001b[43m(\u001b[49m\u001b[38;5;241;43m1.8e3\u001b[39;49m\u001b[43m,\u001b[49m\u001b[43m \u001b[49m\u001b[38;5;241;43m2.2e-9\u001b[39;49m\u001b[43m,\u001b[49m\u001b[43m \u001b[49m\u001b[38;5;241;43m1e3\u001b[39;49m\u001b[43m,\u001b[49m\u001b[43m \u001b[49m\u001b[38;5;241;43m330e-12\u001b[39;49m\u001b[43m,\u001b[49m\u001b[43m \u001b[49m\u001b[38;5;241;43m8.2e3\u001b[39;49m\u001b[43m,\u001b[49m\u001b[43m \u001b[49m\u001b[38;5;241;43m680\u001b[39;49m\u001b[43m)\u001b[49m\u001b[43m,\u001b[49m\n\u001b[1;32m      3\u001b[0m \u001b[43m     \u001b[49m\u001b[38;5;241;43m10\u001b[39;49m\u001b[43m,\u001b[49m\u001b[43m \u001b[49m\u001b[38;5;241;43m2e6\u001b[39;49m\u001b[43m,\u001b[49m\u001b[43m \u001b[49m\u001b[43mH_prop\u001b[49m\u001b[38;5;241;43m=\u001b[39;49m\u001b[38;5;241;43m160e-9\u001b[39;49m\u001b[43m)\u001b[49m\n",
      "Cell \u001b[0;32mIn[18], line 44\u001b[0m, in \u001b[0;36mplot\u001b[0;34m(H, fq_start, fq_end, H_prop)\u001b[0m\n\u001b[1;32m     42\u001b[0m \u001b[38;5;28;01mfor\u001b[39;00m h \u001b[38;5;129;01min\u001b[39;00m ph_hs:\n\u001b[1;32m     43\u001b[0m     \u001b[38;5;28mprint\u001b[39m(h)\n\u001b[0;32m---> 44\u001b[0m     res \u001b[38;5;241m=\u001b[39m \u001b[43mnp\u001b[49m\u001b[38;5;241;43m.\u001b[39;49m\u001b[43mfromiter\u001b[49m\u001b[43m(\u001b[49m\u001b[43mtqdm\u001b[49m\u001b[43m(\u001b[49m\u001b[43mp\u001b[49m\u001b[38;5;241;43m.\u001b[39;49m\u001b[43mimap\u001b[49m\u001b[43m(\u001b[49m\u001b[43minfsum\u001b[49m\u001b[43m(\u001b[49m\u001b[43mphase\u001b[49m\u001b[43m,\u001b[49m\u001b[43m \u001b[49m\u001b[38;5;241;43m1\u001b[39;49m\u001b[43m,\u001b[49m\u001b[43m \u001b[49m\u001b[43mh\u001b[49m\u001b[43m)\u001b[49m\u001b[43m,\u001b[49m\u001b[43m \u001b[49m\u001b[43momega\u001b[49m\u001b[43m)\u001b[49m\u001b[43m,\u001b[49m\u001b[43m \u001b[49m\u001b[43mtotal\u001b[49m\u001b[38;5;241;43m=\u001b[39;49m\u001b[38;5;28;43mlen\u001b[39;49m\u001b[43m(\u001b[49m\u001b[43momega\u001b[49m\u001b[43m)\u001b[49m\u001b[43m)\u001b[49m\u001b[43m,\u001b[49m\u001b[43m \u001b[49m\u001b[43mdtype\u001b[49m\u001b[38;5;241;43m=\u001b[39;49m\u001b[43mnp\u001b[49m\u001b[38;5;241;43m.\u001b[39;49m\u001b[43mcdouble\u001b[49m\u001b[43m)\u001b[49m\n\u001b[1;32m     46\u001b[0m     ph_r\u001b[38;5;241m.\u001b[39mappend(res \u001b[38;5;241m:=\u001b[39m np\u001b[38;5;241m.\u001b[39mvectorize(cmath\u001b[38;5;241m.\u001b[39mphase)(res) \u001b[38;5;241m*\u001b[39m (\u001b[38;5;241m180\u001b[39m \u001b[38;5;241m/\u001b[39m np\u001b[38;5;241m.\u001b[39mpi))\n\u001b[1;32m     48\u001b[0m     plt\u001b[38;5;241m.\u001b[39mplot(omega, res)\n",
      "File \u001b[0;32m~/Documents/Class D Amplifier/JupyterLab/.venv/lib/python3.11/site-packages/tqdm/notebook.py:249\u001b[0m, in \u001b[0;36mtqdm_notebook.__iter__\u001b[0;34m(self)\u001b[0m\n\u001b[1;32m    247\u001b[0m \u001b[38;5;28;01mtry\u001b[39;00m:\n\u001b[1;32m    248\u001b[0m     it \u001b[38;5;241m=\u001b[39m \u001b[38;5;28msuper\u001b[39m(tqdm_notebook, \u001b[38;5;28mself\u001b[39m)\u001b[38;5;241m.\u001b[39m\u001b[38;5;21m__iter__\u001b[39m()\n\u001b[0;32m--> 249\u001b[0m \u001b[43m    \u001b[49m\u001b[38;5;28;43;01mfor\u001b[39;49;00m\u001b[43m \u001b[49m\u001b[43mobj\u001b[49m\u001b[43m \u001b[49m\u001b[38;5;129;43;01min\u001b[39;49;00m\u001b[43m \u001b[49m\u001b[43mit\u001b[49m\u001b[43m:\u001b[49m\n\u001b[1;32m    250\u001b[0m \u001b[43m        \u001b[49m\u001b[38;5;66;43;03m# return super(tqdm...) will not catch exception\u001b[39;49;00m\n\u001b[1;32m    251\u001b[0m \u001b[43m        \u001b[49m\u001b[38;5;28;43;01myield\u001b[39;49;00m\u001b[43m \u001b[49m\u001b[43mobj\u001b[49m\n\u001b[1;32m    252\u001b[0m \u001b[38;5;66;03m# NB: except ... [ as ...] breaks IPython async KeyboardInterrupt\u001b[39;00m\n",
      "File \u001b[0;32m~/Documents/Class D Amplifier/JupyterLab/.venv/lib/python3.11/site-packages/tqdm/std.py:1182\u001b[0m, in \u001b[0;36mtqdm.__iter__\u001b[0;34m(self)\u001b[0m\n\u001b[1;32m   1179\u001b[0m time \u001b[38;5;241m=\u001b[39m \u001b[38;5;28mself\u001b[39m\u001b[38;5;241m.\u001b[39m_time\n\u001b[1;32m   1181\u001b[0m \u001b[38;5;28;01mtry\u001b[39;00m:\n\u001b[0;32m-> 1182\u001b[0m \u001b[43m    \u001b[49m\u001b[38;5;28;43;01mfor\u001b[39;49;00m\u001b[43m \u001b[49m\u001b[43mobj\u001b[49m\u001b[43m \u001b[49m\u001b[38;5;129;43;01min\u001b[39;49;00m\u001b[43m \u001b[49m\u001b[43miterable\u001b[49m\u001b[43m:\u001b[49m\n\u001b[1;32m   1183\u001b[0m \u001b[43m        \u001b[49m\u001b[38;5;28;43;01myield\u001b[39;49;00m\u001b[43m \u001b[49m\u001b[43mobj\u001b[49m\n\u001b[1;32m   1184\u001b[0m \u001b[43m        \u001b[49m\u001b[38;5;66;43;03m# Update and possibly print the progressbar.\u001b[39;49;00m\n\u001b[1;32m   1185\u001b[0m \u001b[43m        \u001b[49m\u001b[38;5;66;43;03m# Note: does not call self.update(1) for speed optimisation.\u001b[39;49;00m\n",
      "File \u001b[0;32m~/Documents/Class D Amplifier/JupyterLab/.venv/lib/python3.11/site-packages/multiprocess/pool.py:861\u001b[0m, in \u001b[0;36mIMapIterator.next\u001b[0;34m(self, timeout)\u001b[0m\n\u001b[1;32m    859\u001b[0m     \u001b[38;5;28mself\u001b[39m\u001b[38;5;241m.\u001b[39m_pool \u001b[38;5;241m=\u001b[39m \u001b[38;5;28;01mNone\u001b[39;00m\n\u001b[1;32m    860\u001b[0m     \u001b[38;5;28;01mraise\u001b[39;00m \u001b[38;5;167;01mStopIteration\u001b[39;00m \u001b[38;5;28;01mfrom\u001b[39;00m \u001b[38;5;28;01mNone\u001b[39;00m\n\u001b[0;32m--> 861\u001b[0m \u001b[38;5;28;43mself\u001b[39;49m\u001b[38;5;241;43m.\u001b[39;49m\u001b[43m_cond\u001b[49m\u001b[38;5;241;43m.\u001b[39;49m\u001b[43mwait\u001b[49m\u001b[43m(\u001b[49m\u001b[43mtimeout\u001b[49m\u001b[43m)\u001b[49m\n\u001b[1;32m    862\u001b[0m \u001b[38;5;28;01mtry\u001b[39;00m:\n\u001b[1;32m    863\u001b[0m     item \u001b[38;5;241m=\u001b[39m \u001b[38;5;28mself\u001b[39m\u001b[38;5;241m.\u001b[39m_items\u001b[38;5;241m.\u001b[39mpopleft()\n",
      "File \u001b[0;32m~/.pyenv/versions/3.11.4/lib/python3.11/threading.py:320\u001b[0m, in \u001b[0;36mCondition.wait\u001b[0;34m(self, timeout)\u001b[0m\n\u001b[1;32m    318\u001b[0m \u001b[38;5;28;01mtry\u001b[39;00m:    \u001b[38;5;66;03m# restore state no matter what (e.g., KeyboardInterrupt)\u001b[39;00m\n\u001b[1;32m    319\u001b[0m     \u001b[38;5;28;01mif\u001b[39;00m timeout \u001b[38;5;129;01mis\u001b[39;00m \u001b[38;5;28;01mNone\u001b[39;00m:\n\u001b[0;32m--> 320\u001b[0m         \u001b[43mwaiter\u001b[49m\u001b[38;5;241;43m.\u001b[39;49m\u001b[43macquire\u001b[49m\u001b[43m(\u001b[49m\u001b[43m)\u001b[49m\n\u001b[1;32m    321\u001b[0m         gotit \u001b[38;5;241m=\u001b[39m \u001b[38;5;28;01mTrue\u001b[39;00m\n\u001b[1;32m    322\u001b[0m     \u001b[38;5;28;01melse\u001b[39;00m:\n",
      "\u001b[0;31mKeyboardInterrupt\u001b[0m: "
     ]
    },
    {
     "data": {
      "image/png": "[encoded data removed]",
      "text/plain": [
       "<Figure size 640x480 with 1 Axes>"
      ]
     },
     "metadata": {},
     "output_type": "display_data"
    }
   ],
   "source": [
    "plot(lpf(30e-6, 680e-9, 4) * \n",
    "     fbn_example(1.8e3, 2.2e-9, 1e3, 330e-12, 8.2e3, 680),\n",
    "     10, 2e6, H_prop=160e-9)"
   ]
  },
  {
   "cell_type": "code",
   "execution_count": 6,
   "id": "c0bf9ff0-3242-40e1-97c5-ce7fdec5969f",
   "metadata": {},
   "outputs": [],
   "source": [
    "def calc_fresp(H: ct.TransferFunction, H_prop: float, h: float, omega):\n",
    "    \"\"\" Calculates the frequency response of a given linear wrapper\n",
    "    function given a duty cycle 'h'.\n",
    "    \"\"\"\n",
    "\n",
    "    e = 1e-12\n",
    "\n",
    "    def inf_sum(f):\n",
    "        fr = 0 \n",
    "        n = 1\n",
    "\n",
    "        q = deque([e / f], maxlen=10)\n",
    "        \n",
    "        while np.max(np.array(q)) >= e / f:\n",
    "            \n",
    "            x = (\n",
    "                H(2j * cmath.pi * f * n) *\n",
    "                cmath.exp((-H_prop) * 2j * cmath.pi * f) * \n",
    "                (1 - cmath.exp((-2j) * cmath.pi * n * h)) * \n",
    "                (1 - cmath.exp(2j * cmath.pi * n * h)) / (2 * n))\n",
    "\n",
    "            fr += x\n",
    "            q.append(x.imag ** 2 + x.real ** 2)\n",
    "\n",
    "            n += 1\n",
    "            \n",
    "        phase = cmath.phase(sum) * 180 / cmath.pi\n",
    "\n",
    "        return phase\n",
    "    \n",
    "    with Pool(os.cpu_count()) as p:\n",
    "        res = list(tqdm(p.imap(inf_sum, omega), total=len(omega)))\n",
    "    \n",
    "        idx = min(range(len(res)), key=lambda i: abs(res[i] + 180))\n",
    "\n",
    "        omega2 = np.arange(omega[idx], omega[idx + 1], 10)\n",
    "\n",
    "        oscs = list(p.imap(inf_sum, omega2))\n",
    "\n",
    "        osc = omega2[min(range(len(oscs)), key=lambda i: abs(oscs[i] + 180))]        \n",
    "        \n",
    "    return res, osc\n",
    "    "
   ]
  },
  {
   "cell_type": "code",
   "execution_count": 7,
   "id": "f147628d-4760-4280-8663-95eceaba21cb",
   "metadata": {},
   "outputs": [
    {
     "ename": "NameError",
     "evalue": "name 'fbn1' is not defined",
     "output_type": "error",
     "traceback": [
      "\u001b[0;31m---------------------------------------------------------------------------\u001b[0m",
      "\u001b[0;31mNameError\u001b[0m                                 Traceback (most recent call last)",
      "Cell \u001b[0;32mIn[7], line 2\u001b[0m\n\u001b[1;32m      1\u001b[0m H \u001b[38;5;241m=\u001b[39m (lpf(\u001b[38;5;241m30e-6\u001b[39m, \u001b[38;5;241m680e-9\u001b[39m, \u001b[38;5;241m4\u001b[39m) \u001b[38;5;241m*\u001b[39m \n\u001b[0;32m----> 2\u001b[0m      \u001b[43mfbn1\u001b[49m(\u001b[38;5;241m1.8e3\u001b[39m, \u001b[38;5;241m2.2e-9\u001b[39m, \u001b[38;5;241m1e3\u001b[39m, \u001b[38;5;241m330e-12\u001b[39m, \u001b[38;5;241m8.2e3\u001b[39m, \u001b[38;5;241m680\u001b[39m) \u001b[38;5;241m*\u001b[39m \n\u001b[1;32m      3\u001b[0m      ct\u001b[38;5;241m.\u001b[39mtf(\u001b[38;5;241m*\u001b[39mct\u001b[38;5;241m.\u001b[39mpade(\u001b[38;5;241m160e-9\u001b[39m)))\n\u001b[1;32m      5\u001b[0m _ \u001b[38;5;241m=\u001b[39m ct\u001b[38;5;241m.\u001b[39mbode_plot(H, Hz\u001b[38;5;241m=\u001b[39m\u001b[38;5;28;01mTrue\u001b[39;00m, dB\u001b[38;5;241m=\u001b[39m\u001b[38;5;28;01mTrue\u001b[39;00m, omega_limits\u001b[38;5;241m=\u001b[39m(\u001b[38;5;241m10\u001b[39m, \u001b[38;5;241m40e3\u001b[39m))\n",
      "\u001b[0;31mNameError\u001b[0m: name 'fbn1' is not defined"
     ]
    }
   ],
   "source": [
    "H = (lpf(30e-6, 680e-9, 4) * \n",
    "     fbn1(1.8e3, 2.2e-9, 1e3, 330e-12, 8.2e3, 680) * \n",
    "     ct.tf(*ct.pade(160e-9)))\n",
    "\n",
    "_ = ct.bode_plot(H, Hz=True, dB=True, omega_limits=(10, 40e3))"
   ]
  },
  {
   "cell_type": "code",
   "execution_count": null,
   "id": "1a2f268c-cfa5-482c-a3e3-f56cba9c81cf",
   "metadata": {},
   "outputs": [],
   "source": [
    "omega = np.logspace(1, 6, num=1000)\n",
    "\n",
    "hs = np.array([1, 2, 3, 5, 7, 8, 9]) / 10\n",
    "ress, oscs = zip(*[calc_fresp(\n",
    "    lpf(30e-6, 680e-9, 4) *\n",
    "    fbn1(1.8e3, 2.2e-9, 1e3, 330e-12, 8.2e3, 680),\n",
    "    160e-9, h, omega) for h in hs])\n",
    "\n",
    "fig, (ax1, ax2) = plt.subplots(2)\n",
    "\n",
    "ax1.plot(hs, oscs)\n",
    "\n",
    "for h, res in zip(hs, ress):\n",
    "    ax2.plot(omega, res, label=h)\n",
    "\n",
    "ax2.set_xscale('log')\n",
    "\n",
    "plt.show()"
   ]
  }
 ],
 "metadata": {
  "kernelspec": {
   "display_name": ".venv",
   "language": "python",
   "name": ".venv"
  },
  "language_info": {
   "codemirror_mode": {
    "name": "ipython",
    "version": 3
   },
   "file_extension": ".py",
   "mimetype": "text/x-python",
   "name": "python",
   "nbconvert_exporter": "python",
   "pygments_lexer": "ipython3",
   "version": "3.11.4"
  }
 },
 "nbformat": 4,
 "nbformat_minor": 5
}
