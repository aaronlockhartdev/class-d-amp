from modules.sapwin import Sapwin


problem = Sapwin(filename='../sym_analysis/SapWin/class_d_simp.out')
