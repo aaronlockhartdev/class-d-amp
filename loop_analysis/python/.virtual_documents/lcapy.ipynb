import lcapy
lcapy.config.solver_method = 'FFGJ'
ckt = lcapy.Circuit('../sym_analysis/lcapy/class_d_bp.sch')
ckt.draw()


tf = (ckt.out.V / ckt.Vs.V).simplify()
