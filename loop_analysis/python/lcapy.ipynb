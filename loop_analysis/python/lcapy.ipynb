{
 "cells": [
  {
   "cell_type": "code",
   "execution_count": null,
   "id": "78113578-bf75-44b2-9474-4d14890af665",
   "metadata": {},
   "outputs": [],
   "source": [
    "import lcapy\n",
    "from lcapy import s\n",
    "ckt = lcapy.Circuit('../sym_analysis/lcapy/class_d_bp.sch')\n",
    "ckt.draw()"
   ]
  },
  {
   "cell_type": "code",
   "execution_count": null,
   "id": "7d9ccacf-9ac3-4518-9a48-0d697eb6d5d5",
   "metadata": {},
   "outputs": [],
   "source": [
    "tf = (ckt.out.V(s) / ckt.Vs.V(s)).simplify()"
   ]
  },
  {
   "cell_type": "code",
   "execution_count": null,
   "id": "356fbf7c-e1f8-4d78-b1c4-07a3fd3ca0d3",
   "metadata": {},
   "outputs": [],
   "source": [
    "tf"
   ]
  }
 ],
 "metadata": {
  "kernelspec": {
   "display_name": "class_d_amp",
   "language": "python",
   "name": "class_d_amp"
  },
  "language_info": {
   "codemirror_mode": {
    "name": "ipython",
    "version": 3
   },
   "file_extension": ".py",
   "mimetype": "text/x-python",
   "name": "python",
   "nbconvert_exporter": "python",
   "pygments_lexer": "ipython3",
   "version": "3.12.7"
  }
 },
 "nbformat": 4,
 "nbformat_minor": 5
}
