{
 "cells": [
  {
   "cell_type": "code",
   "execution_count": 1,
   "id": "78113578-bf75-44b2-9474-4d14890af665",
   "metadata": {},
   "outputs": [
    {
     "name": "stderr",
     "output_type": "stream",
     "text": [
      "/mnt/c/Users/Aaron/Documents/GitHub/class-d-amp/loop_analysis/python/.venv/lib/python3.12/site-packages/lcapy/netlist.py:456: SyntaxWarning: invalid escape sequence '\\,'\n",
      "  \"\"\"Create a new netlist with the node voltages annotated.  This is\n",
      "/mnt/c/Users/Aaron/Documents/GitHub/class-d-amp/loop_analysis/python/.venv/lib/python3.12/site-packages/lcapy/parser.py:285: SyntaxWarning: invalid escape sequence '\\w'\n",
      "  self.cpt_pattern = re.compile(\"(%s)([#_\\w'?]+)?\" % '|'.join(cpts))\n"
     ]
    },
    {
     "ename": "ValueError",
     "evalue": "Unknown component <<<<<<< while parsing \"<<<<<<< Updated upstream\"",
     "output_type": "error",
     "traceback": [
      "\u001b[0;31m---------------------------------------------------------------------------\u001b[0m",
      "\u001b[0;31mValueError\u001b[0m                                Traceback (most recent call last)",
      "Cell \u001b[0;32mIn[1], line 3\u001b[0m\n\u001b[1;32m      1\u001b[0m \u001b[38;5;28;01mimport\u001b[39;00m \u001b[38;5;21;01mlcapy\u001b[39;00m\n\u001b[1;32m      2\u001b[0m \u001b[38;5;28;01mfrom\u001b[39;00m \u001b[38;5;21;01mlcapy\u001b[39;00m \u001b[38;5;28;01mimport\u001b[39;00m s\n\u001b[0;32m----> 3\u001b[0m ckt \u001b[38;5;241m=\u001b[39m \u001b[43mlcapy\u001b[49m\u001b[38;5;241;43m.\u001b[39;49m\u001b[43mCircuit\u001b[49m\u001b[43m(\u001b[49m\u001b[38;5;124;43m'\u001b[39;49m\u001b[38;5;124;43m../sym_analysis/lcapy/class_d_bp.sch\u001b[39;49m\u001b[38;5;124;43m'\u001b[39;49m\u001b[43m)\u001b[49m\n\u001b[1;32m      4\u001b[0m ckt\u001b[38;5;241m.\u001b[39mdraw()\n",
      "File \u001b[0;32m/mnt/c/Users/Aaron/Documents/GitHub/class-d-amp/loop_analysis/python/.venv/lib/python3.12/site-packages/lcapy/circuit.py:114\u001b[0m, in \u001b[0;36mCircuit.__init__\u001b[0;34m(self, filename, netlist, allow_anon, context, kind)\u001b[0m\n\u001b[1;32m    112\u001b[0m     \u001b[38;5;28mself\u001b[39m\u001b[38;5;241m.\u001b[39madd(filename)\n\u001b[1;32m    113\u001b[0m \u001b[38;5;28;01melse\u001b[39;00m:\n\u001b[0;32m--> 114\u001b[0m     \u001b[38;5;28;43msuper\u001b[39;49m\u001b[43m(\u001b[49m\u001b[43mCircuit\u001b[49m\u001b[43m,\u001b[49m\u001b[43m \u001b[49m\u001b[38;5;28;43mself\u001b[39;49m\u001b[43m)\u001b[49m\u001b[38;5;241;43m.\u001b[39;49m\u001b[38;5;21;43m__init__\u001b[39;49m\u001b[43m(\u001b[49m\u001b[43mfilename\u001b[49m\u001b[43m,\u001b[49m\u001b[43m \u001b[49m\u001b[43mallow_anon\u001b[49m\u001b[38;5;241;43m=\u001b[39;49m\u001b[43mallow_anon\u001b[49m\u001b[43m,\u001b[49m\n\u001b[1;32m    115\u001b[0m \u001b[43m                                  \u001b[49m\u001b[43mcontext\u001b[49m\u001b[38;5;241;43m=\u001b[39;49m\u001b[43mcontext\u001b[49m\u001b[43m,\u001b[49m\u001b[43m \u001b[49m\u001b[43mkind\u001b[49m\u001b[38;5;241;43m=\u001b[39;49m\u001b[43mkind\u001b[49m\u001b[43m)\u001b[49m\n\u001b[1;32m    117\u001b[0m \u001b[38;5;28;01mif\u001b[39;00m netlist \u001b[38;5;129;01mis\u001b[39;00m \u001b[38;5;129;01mnot\u001b[39;00m \u001b[38;5;28;01mNone\u001b[39;00m:\n\u001b[1;32m    118\u001b[0m     \u001b[38;5;28mself\u001b[39m\u001b[38;5;241m.\u001b[39madd(netlist)\n",
      "File \u001b[0;32m/mnt/c/Users/Aaron/Documents/GitHub/class-d-amp/loop_analysis/python/.venv/lib/python3.12/site-packages/lcapy/netlist.py:46\u001b[0m, in \u001b[0;36mNetlist.__init__\u001b[0;34m(self, filename, context, allow_anon, kind)\u001b[0m\n\u001b[1;32m     43\u001b[0m \u001b[38;5;28;01mdef\u001b[39;00m \u001b[38;5;21m__init__\u001b[39m(\u001b[38;5;28mself\u001b[39m, filename\u001b[38;5;241m=\u001b[39m\u001b[38;5;28;01mNone\u001b[39;00m, context\u001b[38;5;241m=\u001b[39m\u001b[38;5;28;01mNone\u001b[39;00m,\n\u001b[1;32m     44\u001b[0m              allow_anon\u001b[38;5;241m=\u001b[39m\u001b[38;5;28;01mFalse\u001b[39;00m, kind\u001b[38;5;241m=\u001b[39m\u001b[38;5;124m'\u001b[39m\u001b[38;5;124msuper\u001b[39m\u001b[38;5;124m'\u001b[39m):\n\u001b[0;32m---> 46\u001b[0m     \u001b[38;5;28;43msuper\u001b[39;49m\u001b[43m(\u001b[49m\u001b[43mNetlist\u001b[49m\u001b[43m,\u001b[49m\u001b[43m \u001b[49m\u001b[38;5;28;43mself\u001b[39;49m\u001b[43m)\u001b[49m\u001b[38;5;241;43m.\u001b[39;49m\u001b[38;5;21;43m__init__\u001b[39;49m\u001b[43m(\u001b[49m\u001b[43mfilename\u001b[49m\u001b[43m,\u001b[49m\u001b[43m \u001b[49m\u001b[43mcontext\u001b[49m\u001b[43m,\u001b[49m\u001b[43m \u001b[49m\u001b[43mallow_anon\u001b[49m\u001b[38;5;241;43m=\u001b[39;49m\u001b[43mallow_anon\u001b[49m\u001b[43m)\u001b[49m\n\u001b[1;32m     47\u001b[0m     \u001b[38;5;28mself\u001b[39m\u001b[38;5;241m.\u001b[39m_invalidate()\n\u001b[1;32m     48\u001b[0m     \u001b[38;5;28mself\u001b[39m\u001b[38;5;241m.\u001b[39mkind \u001b[38;5;241m=\u001b[39m kind\n",
      "File \u001b[0;32m/mnt/c/Users/Aaron/Documents/GitHub/class-d-amp/loop_analysis/python/.venv/lib/python3.12/site-packages/lcapy/netlistmixin.py:44\u001b[0m, in \u001b[0;36mNetlistMixin.__init__\u001b[0;34m(self, filename, context, allow_anon)\u001b[0m\n\u001b[1;32m     41\u001b[0m \u001b[38;5;28mself\u001b[39m\u001b[38;5;241m.\u001b[39m_init_parser(mnacpts, allow_anon\u001b[38;5;241m=\u001b[39mallow_anon)\n\u001b[1;32m     43\u001b[0m \u001b[38;5;28;01mif\u001b[39;00m filename \u001b[38;5;129;01mis\u001b[39;00m \u001b[38;5;129;01mnot\u001b[39;00m \u001b[38;5;28;01mNone\u001b[39;00m:\n\u001b[0;32m---> 44\u001b[0m     \u001b[38;5;28;43mself\u001b[39;49m\u001b[38;5;241;43m.\u001b[39;49m\u001b[43mnetfile_add\u001b[49m\u001b[43m(\u001b[49m\u001b[43mfilename\u001b[49m\u001b[43m)\u001b[49m\n",
      "File \u001b[0;32m/mnt/c/Users/Aaron/Documents/GitHub/class-d-amp/loop_analysis/python/.venv/lib/python3.12/site-packages/lcapy/netfile.py:148\u001b[0m, in \u001b[0;36mNetfileMixin.netfile_add\u001b[0;34m(self, pathname)\u001b[0m\n\u001b[1;32m    145\u001b[0m pathname \u001b[38;5;241m=\u001b[39m expanduser(pathname)\n\u001b[1;32m    147\u001b[0m \u001b[38;5;28mself\u001b[39m\u001b[38;5;241m.\u001b[39mdirname \u001b[38;5;241m=\u001b[39m dirname(pathname)\n\u001b[0;32m--> 148\u001b[0m \u001b[38;5;28;43mself\u001b[39;49m\u001b[38;5;241;43m.\u001b[39;49m\u001b[43m_netfile_add\u001b[49m\u001b[43m(\u001b[49m\u001b[43mpathname\u001b[49m\u001b[43m)\u001b[49m\n",
      "File \u001b[0;32m/mnt/c/Users/Aaron/Documents/GitHub/class-d-amp/loop_analysis/python/.venv/lib/python3.12/site-packages/lcapy/netfile.py:181\u001b[0m, in \u001b[0;36mNetfileMixin._netfile_add\u001b[0;34m(self, pathname, namespace)\u001b[0m\n\u001b[1;32m    179\u001b[0m     state\u001b[38;5;241m.\u001b[39mswitch_context(\u001b[38;5;28mself\u001b[39m\u001b[38;5;241m.\u001b[39mcontext)\n\u001b[1;32m    180\u001b[0m \u001b[38;5;28;01mfor\u001b[39;00m line \u001b[38;5;129;01min\u001b[39;00m lines:\n\u001b[0;32m--> 181\u001b[0m     \u001b[38;5;28;43mself\u001b[39;49m\u001b[38;5;241;43m.\u001b[39;49m\u001b[43m_add\u001b[49m\u001b[43m(\u001b[49m\u001b[43mline\u001b[49m\u001b[43m,\u001b[49m\u001b[43m \u001b[49m\u001b[43mnamespace\u001b[49m\u001b[43m)\u001b[49m\n\u001b[1;32m    182\u001b[0m \u001b[38;5;28;01mif\u001b[39;00m \u001b[38;5;28mself\u001b[39m\u001b[38;5;241m.\u001b[39mcontext \u001b[38;5;129;01mis\u001b[39;00m \u001b[38;5;129;01mnot\u001b[39;00m \u001b[38;5;28;01mNone\u001b[39;00m:\n\u001b[1;32m    183\u001b[0m     state\u001b[38;5;241m.\u001b[39mrestore_context()\n",
      "File \u001b[0;32m/mnt/c/Users/Aaron/Documents/GitHub/class-d-amp/loop_analysis/python/.venv/lib/python3.12/site-packages/lcapy/netfile.py:130\u001b[0m, in \u001b[0;36mNetfileMixin._add\u001b[0;34m(self, string, namespace)\u001b[0m\n\u001b[1;32m    127\u001b[0m         \u001b[38;5;28mself\u001b[39m\u001b[38;5;241m.\u001b[39m_add(line\u001b[38;5;241m.\u001b[39mstrip(), namespace)\n\u001b[1;32m    128\u001b[0m     \u001b[38;5;28;01mreturn\u001b[39;00m \u001b[38;5;28;01mNone\u001b[39;00m\n\u001b[0;32m--> 130\u001b[0m cpt \u001b[38;5;241m=\u001b[39m \u001b[38;5;28;43mself\u001b[39;49m\u001b[38;5;241;43m.\u001b[39;49m\u001b[43m_parse\u001b[49m\u001b[43m(\u001b[49m\u001b[43mstring\u001b[49m\u001b[43m,\u001b[49m\u001b[43m \u001b[49m\u001b[43mnamespace\u001b[49m\u001b[43m)\u001b[49m\n\u001b[1;32m    131\u001b[0m \u001b[38;5;28;01mif\u001b[39;00m cpt \u001b[38;5;129;01mis\u001b[39;00m \u001b[38;5;129;01mnot\u001b[39;00m \u001b[38;5;28;01mNone\u001b[39;00m:\n\u001b[1;32m    132\u001b[0m     \u001b[38;5;28mself\u001b[39m\u001b[38;5;241m.\u001b[39m_cpt_add(cpt)\n",
      "File \u001b[0;32m/mnt/c/Users/Aaron/Documents/GitHub/class-d-amp/loop_analysis/python/.venv/lib/python3.12/site-packages/lcapy/netfile.py:92\u001b[0m, in \u001b[0;36mNetfileMixin._parse\u001b[0;34m(self, string, namespace)\u001b[0m\n\u001b[1;32m     89\u001b[0m     \u001b[38;5;28;01mimport\u001b[39;00m \u001b[38;5;21;01mpdb\u001b[39;00m\n\u001b[1;32m     90\u001b[0m     pdb\u001b[38;5;241m.\u001b[39mset_trace()\n\u001b[0;32m---> 92\u001b[0m cpt \u001b[38;5;241m=\u001b[39m \u001b[38;5;28;43mself\u001b[39;49m\u001b[38;5;241;43m.\u001b[39;49m\u001b[43mparser\u001b[49m\u001b[38;5;241;43m.\u001b[39;49m\u001b[43mparse\u001b[49m\u001b[43m(\u001b[49m\u001b[43mstring\u001b[49m\u001b[43m,\u001b[49m\u001b[43m \u001b[49m\u001b[43mnamespace\u001b[49m\u001b[43m,\u001b[49m\u001b[43m \u001b[49m\u001b[38;5;28;43mself\u001b[39;49m\u001b[43m)\u001b[49m\n\u001b[1;32m     93\u001b[0m \u001b[38;5;28;01mreturn\u001b[39;00m cpt\n",
      "File \u001b[0;32m/mnt/c/Users/Aaron/Documents/GitHub/class-d-amp/loop_analysis/python/.venv/lib/python3.12/site-packages/lcapy/parser.py:376\u001b[0m, in \u001b[0;36mParser.parse\u001b[0;34m(self, string, namespace, parent)\u001b[0m\n\u001b[1;32m    374\u001b[0m match \u001b[38;5;241m=\u001b[39m \u001b[38;5;28mself\u001b[39m\u001b[38;5;241m.\u001b[39mcpt_pattern\u001b[38;5;241m.\u001b[39mmatch(relname)\n\u001b[1;32m    375\u001b[0m \u001b[38;5;28;01mif\u001b[39;00m match \u001b[38;5;129;01mis\u001b[39;00m \u001b[38;5;28;01mNone\u001b[39;00m:\n\u001b[0;32m--> 376\u001b[0m     \u001b[38;5;28;01mraise\u001b[39;00m \u001b[38;5;167;01mValueError\u001b[39;00m(\n\u001b[1;32m    377\u001b[0m         \u001b[38;5;124m'\u001b[39m\u001b[38;5;124mUnknown component \u001b[39m\u001b[38;5;132;01m%s\u001b[39;00m\u001b[38;5;124m while parsing \u001b[39m\u001b[38;5;124m\"\u001b[39m\u001b[38;5;132;01m%s\u001b[39;00m\u001b[38;5;124m\"\u001b[39m\u001b[38;5;124m'\u001b[39m \u001b[38;5;241m%\u001b[39m (name, net))\n\u001b[1;32m    379\u001b[0m groups \u001b[38;5;241m=\u001b[39m match\u001b[38;5;241m.\u001b[39mgroups()\n\u001b[1;32m    380\u001b[0m cpt_type, cpt_id \u001b[38;5;241m=\u001b[39m groups[\u001b[38;5;241m0\u001b[39m], groups[\u001b[38;5;241m1\u001b[39m]\n",
      "\u001b[0;31mValueError\u001b[0m: Unknown component <<<<<<< while parsing \"<<<<<<< Updated upstream\""
     ]
    }
   ],
   "source": [
    "import lcapy\n",
    "from lcapy import s\n",
    "ckt = lcapy.Circuit('../sym_analysis/lcapy/class_d_bp.sch')\n",
    "ckt.draw()"
   ]
  },
  {
   "cell_type": "code",
   "execution_count": null,
   "id": "7d9ccacf-9ac3-4518-9a48-0d697eb6d5d5",
   "metadata": {},
   "outputs": [],
   "source": [
    "tf = (ckt.out.V(s) / ckt.Vs.V(s)).simplify()"
   ]
  },
  {
   "cell_type": "code",
   "execution_count": null,
   "id": "356fbf7c-e1f8-4d78-b1c4-07a3fd3ca0d3",
   "metadata": {},
   "outputs": [],
   "source": [
    "tf"
   ]
  }
 ],
 "metadata": {
  "kernelspec": {
   "display_name": "class_d_amp",
   "language": "python",
   "name": "class_d_amp"
  },
  "language_info": {
   "codemirror_mode": {
    "name": "ipython",
    "version": 3
   },
   "file_extension": ".py",
   "mimetype": "text/x-python",
   "name": "python",
   "nbconvert_exporter": "python",
   "pygments_lexer": "ipython3",
   "version": "3.12.7"
  }
 },
 "nbformat": 4,
 "nbformat_minor": 5
}
