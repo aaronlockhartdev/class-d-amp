{
 "cells": [
  {
   "cell_type": "markdown",
   "id": "c172f8cd-ca79-4d21-a342-c6aa86e4e66a",
   "metadata": {},
   "source": [
    "## Packages\n",
    "Install necessary packages: numpy, control, and multiprocessing."
   ]
  },
  {
   "cell_type": "code",
   "execution_count": 1,
   "id": "3a1ab5f2-273c-4d2b-8ffe-6043a951214d",
   "metadata": {
    "scrolled": true
   },
   "outputs": [
    {
     "name": "stdout",
     "output_type": "stream",
     "text": [
      "Requirement already satisfied: pymoo in /home/aaron/.pyenv/versions/3.11.10/lib/python3.11/site-packages (from -r requirements.txt (line 1)) (0.6.1.3)\n",
      "Requirement already satisfied: numba in /home/aaron/.pyenv/versions/3.11.10/lib/python3.11/site-packages (from -r requirements.txt (line 2)) (0.60.0)\n",
      "Requirement already satisfied: control in /home/aaron/.pyenv/versions/3.11.10/lib/python3.11/site-packages (from -r requirements.txt (line 3)) (0.10.1)\n",
      "Requirement already satisfied: matplotlib in /home/aaron/.pyenv/versions/3.11.10/lib/python3.11/site-packages (from -r requirements.txt (line 4)) (3.9.2)\n",
      "Requirement already satisfied: ipympl in /home/aaron/.pyenv/versions/3.11.10/lib/python3.11/site-packages (from -r requirements.txt (line 5)) (0.9.4)\n",
      "Requirement already satisfied: sympy in /home/aaron/.pyenv/versions/3.11.10/lib/python3.11/site-packages (from -r requirements.txt (line 6)) (1.13.3)\n",
      "Requirement already satisfied: gmpy2 in /home/aaron/.pyenv/versions/3.11.10/lib/python3.11/site-packages (from -r requirements.txt (line 7)) (2.2.1)\n",
      "Requirement already satisfied: symengine in /home/aaron/.pyenv/versions/3.11.10/lib/python3.11/site-packages (from -r requirements.txt (line 8)) (0.13.0)\n",
      "Requirement already satisfied: numpy>=1.15 in /home/aaron/.pyenv/versions/3.11.10/lib/python3.11/site-packages (from pymoo->-r requirements.txt (line 1)) (2.0.2)\n",
      "Requirement already satisfied: scipy>=1.1 in /home/aaron/.pyenv/versions/3.11.10/lib/python3.11/site-packages (from pymoo->-r requirements.txt (line 1)) (1.14.1)\n",
      "Requirement already satisfied: autograd>=1.4 in /home/aaron/.pyenv/versions/3.11.10/lib/python3.11/site-packages (from pymoo->-r requirements.txt (line 1)) (1.7.0)\n",
      "Requirement already satisfied: cma==3.2.2 in /home/aaron/.pyenv/versions/3.11.10/lib/python3.11/site-packages (from pymoo->-r requirements.txt (line 1)) (3.2.2)\n",
      "Requirement already satisfied: alive-progress in /home/aaron/.pyenv/versions/3.11.10/lib/python3.11/site-packages (from pymoo->-r requirements.txt (line 1)) (3.2.0)\n",
      "Requirement already satisfied: dill in /home/aaron/.pyenv/versions/3.11.10/lib/python3.11/site-packages (from pymoo->-r requirements.txt (line 1)) (0.3.9)\n",
      "Requirement already satisfied: Deprecated in /home/aaron/.pyenv/versions/3.11.10/lib/python3.11/site-packages (from pymoo->-r requirements.txt (line 1)) (1.2.15)\n",
      "Requirement already satisfied: llvmlite<0.44,>=0.43.0dev0 in /home/aaron/.pyenv/versions/3.11.10/lib/python3.11/site-packages (from numba->-r requirements.txt (line 2)) (0.43.0)\n",
      "Requirement already satisfied: contourpy>=1.0.1 in /home/aaron/.pyenv/versions/3.11.10/lib/python3.11/site-packages (from matplotlib->-r requirements.txt (line 4)) (1.3.1)\n",
      "Requirement already satisfied: cycler>=0.10 in /home/aaron/.pyenv/versions/3.11.10/lib/python3.11/site-packages (from matplotlib->-r requirements.txt (line 4)) (0.12.1)\n",
      "Requirement already satisfied: fonttools>=4.22.0 in /home/aaron/.pyenv/versions/3.11.10/lib/python3.11/site-packages (from matplotlib->-r requirements.txt (line 4)) (4.55.0)\n",
      "Requirement already satisfied: kiwisolver>=1.3.1 in /home/aaron/.pyenv/versions/3.11.10/lib/python3.11/site-packages (from matplotlib->-r requirements.txt (line 4)) (1.4.7)\n",
      "Requirement already satisfied: packaging>=20.0 in /home/aaron/.pyenv/versions/3.11.10/lib/python3.11/site-packages (from matplotlib->-r requirements.txt (line 4)) (24.2)\n",
      "Requirement already satisfied: pillow>=8 in /home/aaron/.pyenv/versions/3.11.10/lib/python3.11/site-packages (from matplotlib->-r requirements.txt (line 4)) (11.0.0)\n",
      "Requirement already satisfied: pyparsing>=2.3.1 in /home/aaron/.pyenv/versions/3.11.10/lib/python3.11/site-packages (from matplotlib->-r requirements.txt (line 4)) (3.2.0)\n",
      "Requirement already satisfied: python-dateutil>=2.7 in /home/aaron/.pyenv/versions/3.11.10/lib/python3.11/site-packages (from matplotlib->-r requirements.txt (line 4)) (2.9.0.post0)\n",
      "Requirement already satisfied: ipython-genutils in /home/aaron/.pyenv/versions/3.11.10/lib/python3.11/site-packages (from ipympl->-r requirements.txt (line 5)) (0.2.0)\n",
      "Requirement already satisfied: ipython<9 in /home/aaron/.pyenv/versions/3.11.10/lib/python3.11/site-packages (from ipympl->-r requirements.txt (line 5)) (8.29.0)\n",
      "Requirement already satisfied: ipywidgets<9,>=7.6.0 in /home/aaron/.pyenv/versions/3.11.10/lib/python3.11/site-packages (from ipympl->-r requirements.txt (line 5)) (8.1.5)\n",
      "Requirement already satisfied: traitlets<6 in /home/aaron/.pyenv/versions/3.11.10/lib/python3.11/site-packages (from ipympl->-r requirements.txt (line 5)) (5.14.3)\n",
      "Requirement already satisfied: mpmath<1.4,>=1.1.0 in /home/aaron/.pyenv/versions/3.11.10/lib/python3.11/site-packages (from sympy->-r requirements.txt (line 6)) (1.3.0)\n",
      "Requirement already satisfied: decorator in /home/aaron/.pyenv/versions/3.11.10/lib/python3.11/site-packages (from ipython<9->ipympl->-r requirements.txt (line 5)) (5.1.1)\n",
      "Requirement already satisfied: jedi>=0.16 in /home/aaron/.pyenv/versions/3.11.10/lib/python3.11/site-packages (from ipython<9->ipympl->-r requirements.txt (line 5)) (0.19.2)\n",
      "Requirement already satisfied: matplotlib-inline in /home/aaron/.pyenv/versions/3.11.10/lib/python3.11/site-packages (from ipython<9->ipympl->-r requirements.txt (line 5)) (0.1.7)\n",
      "Requirement already satisfied: prompt-toolkit<3.1.0,>=3.0.41 in /home/aaron/.pyenv/versions/3.11.10/lib/python3.11/site-packages (from ipython<9->ipympl->-r requirements.txt (line 5)) (3.0.48)\n",
      "Requirement already satisfied: pygments>=2.4.0 in /home/aaron/.pyenv/versions/3.11.10/lib/python3.11/site-packages (from ipython<9->ipympl->-r requirements.txt (line 5)) (2.18.0)\n",
      "Requirement already satisfied: stack-data in /home/aaron/.pyenv/versions/3.11.10/lib/python3.11/site-packages (from ipython<9->ipympl->-r requirements.txt (line 5)) (0.6.3)\n",
      "Requirement already satisfied: typing-extensions>=4.6 in /home/aaron/.pyenv/versions/3.11.10/lib/python3.11/site-packages (from ipython<9->ipympl->-r requirements.txt (line 5)) (4.12.2)\n",
      "Requirement already satisfied: pexpect>4.3 in /home/aaron/.pyenv/versions/3.11.10/lib/python3.11/site-packages (from ipython<9->ipympl->-r requirements.txt (line 5)) (4.9.0)\n",
      "Requirement already satisfied: comm>=0.1.3 in /home/aaron/.pyenv/versions/3.11.10/lib/python3.11/site-packages (from ipywidgets<9,>=7.6.0->ipympl->-r requirements.txt (line 5)) (0.2.2)\n",
      "Requirement already satisfied: widgetsnbextension~=4.0.12 in /home/aaron/.pyenv/versions/3.11.10/lib/python3.11/site-packages (from ipywidgets<9,>=7.6.0->ipympl->-r requirements.txt (line 5)) (4.0.13)\n",
      "Requirement already satisfied: jupyterlab-widgets~=3.0.12 in /home/aaron/.pyenv/versions/3.11.10/lib/python3.11/site-packages (from ipywidgets<9,>=7.6.0->ipympl->-r requirements.txt (line 5)) (3.0.13)\n",
      "Requirement already satisfied: six>=1.5 in /home/aaron/.pyenv/versions/3.11.10/lib/python3.11/site-packages (from python-dateutil>=2.7->matplotlib->-r requirements.txt (line 4)) (1.16.0)\n",
      "Requirement already satisfied: about-time==4.2.1 in /home/aaron/.pyenv/versions/3.11.10/lib/python3.11/site-packages (from alive-progress->pymoo->-r requirements.txt (line 1)) (4.2.1)\n",
      "Requirement already satisfied: grapheme==0.6.0 in /home/aaron/.pyenv/versions/3.11.10/lib/python3.11/site-packages (from alive-progress->pymoo->-r requirements.txt (line 1)) (0.6.0)\n",
      "Requirement already satisfied: wrapt<2,>=1.10 in /home/aaron/.pyenv/versions/3.11.10/lib/python3.11/site-packages (from Deprecated->pymoo->-r requirements.txt (line 1)) (1.17.0)\n",
      "Requirement already satisfied: parso<0.9.0,>=0.8.4 in /home/aaron/.pyenv/versions/3.11.10/lib/python3.11/site-packages (from jedi>=0.16->ipython<9->ipympl->-r requirements.txt (line 5)) (0.8.4)\n",
      "Requirement already satisfied: ptyprocess>=0.5 in /home/aaron/.pyenv/versions/3.11.10/lib/python3.11/site-packages (from pexpect>4.3->ipython<9->ipympl->-r requirements.txt (line 5)) (0.7.0)\n",
      "Requirement already satisfied: wcwidth in /home/aaron/.pyenv/versions/3.11.10/lib/python3.11/site-packages (from prompt-toolkit<3.1.0,>=3.0.41->ipython<9->ipympl->-r requirements.txt (line 5)) (0.2.13)\n",
      "Requirement already satisfied: executing>=1.2.0 in /home/aaron/.pyenv/versions/3.11.10/lib/python3.11/site-packages (from stack-data->ipython<9->ipympl->-r requirements.txt (line 5)) (2.1.0)\n",
      "Requirement already satisfied: asttokens>=2.1.0 in /home/aaron/.pyenv/versions/3.11.10/lib/python3.11/site-packages (from stack-data->ipython<9->ipympl->-r requirements.txt (line 5)) (2.4.1)\n",
      "Requirement already satisfied: pure-eval in /home/aaron/.pyenv/versions/3.11.10/lib/python3.11/site-packages (from stack-data->ipython<9->ipympl->-r requirements.txt (line 5)) (0.2.3)\n",
      "\n",
      "\u001b[1m[\u001b[0m\u001b[34;49mnotice\u001b[0m\u001b[1;39;49m]\u001b[0m\u001b[39;49m A new release of pip is available: \u001b[0m\u001b[31;49m24.0\u001b[0m\u001b[39;49m -> \u001b[0m\u001b[32;49m24.3.1\u001b[0m\n",
      "\u001b[1m[\u001b[0m\u001b[34;49mnotice\u001b[0m\u001b[1;39;49m]\u001b[0m\u001b[39;49m To update, run: \u001b[0m\u001b[32;49mpip install --upgrade pip\u001b[0m\n"
     ]
    }
   ],
   "source": [
    "!pip install -r requirements.txt -U"
   ]
  },
  {
   "cell_type": "code",
   "execution_count": 2,
   "id": "dda4af61-6763-474a-a36c-a1ffd982c262",
   "metadata": {
    "scrolled": true
   },
   "outputs": [],
   "source": [
    "# Import necessary packages\n",
    "import re\n",
    "\n",
    "import numpy as np\n",
    "import control as ct\n",
    "\n",
    "from typing import Callable, Tuple\n",
    "\n",
    "import matplotlib.pyplot as plt"
   ]
  },
  {
   "cell_type": "markdown",
   "id": "676cde1e-b4a5-4d1d-b2d4-31bcfda8b02b",
   "metadata": {},
   "source": [
    "## Plot\n",
    "Given a transfer function **H**, frequency range **\\[start, end\\]**, and propagation delay **delay**, we numerically approximate the transfer function given a square wave amplifier, which theoretically produces an infinite number of harmonics. If there is no propagation delay or it is already approximated in the transfer function, **delay** defaults to the floating point ε to approximate the limit form mentioned in Putzey's paper."
   ]
  },
  {
   "cell_type": "code",
   "execution_count": 3,
   "id": "c715b7ff-978e-43d9-b260-9790ec7a3042",
   "metadata": {},
   "outputs": [],
   "source": [
    "from modules.calc_resp import precompute_consts, calc_resp\n",
    "\n",
    "def calc(\n",
    "    H: ct.TransferFunction, \n",
    "    start: float, \n",
    "    end: float, \n",
    "    delay=np.finfo(np.longdouble).eps,\n",
    "    num_freqs=1_000,\n",
    "    num_duty_cycles=100,\n",
    "    num_harmonics=100.\n",
    ") -> Tuple[np.ndarray]:\n",
    "    consts = list(precompute_consts(num_freqs, num_duty_cycles, num_harmonics, (start, end)))\n",
    "    \n",
    "    mags, phs, osc_fs, dcins, dcgains = calc_resp(np.array(H.num[0])[:,::-1], np.array(H.den[0])[:,::-1], np.array([delay]), *consts)\n",
    "    \n",
    "    consts[0] = np.imag(consts[0]) / (2 * np.pi)\n",
    "    osc_fs /= 2 * np.pi\n",
    "    phs -= np.pi\n",
    "\n",
    "    return (mags[0], phs[0], osc_fs[0], dcins[0], dcgains[0]), consts[:3]"
   ]
  },
  {
   "cell_type": "code",
   "execution_count": 4,
   "id": "cc8fc33f-ab81-440e-99c9-d7296548407b",
   "metadata": {
    "editable": true,
    "slideshow": {
     "slide_type": ""
    },
    "tags": []
   },
   "outputs": [],
   "source": [
    "def plot(\n",
    "    H: ct.TransferFunction, \n",
    "    start: float, \n",
    "    end: float, \n",
    "    delay=np.finfo(np.longdouble).eps\n",
    ") -> None:\n",
    "    \"\"\" Takes a SISO transfer function `H` and plots phase response and loop gain vs.\n",
    "    frequency, oscillation frequency vs. duty cycle, DC transfer curve, and loop gain \n",
    "    vs. duty cycle. \"\"\"\n",
    "\n",
    "    (mags, phs, osc_fs, dcins, dcgains), (omega, hs, ns) = calc(H, start, end, delay)\n",
    "    \n",
    "    # Plotting\n",
    "    fig, ((ax_ph, ax_dcgain), (ax_osc, ax_dcin)) = plt.subplots(2,2)\n",
    "\n",
    "    # Set figure labels\n",
    "    ax_osc.set_ylabel('Osc. Freq. (Hz)')\n",
    "    ax_osc.set_xlabel('Duty Cycle')\n",
    "\n",
    "    ax_ph.set_xlabel('Frequency (Hz)')\n",
    "    ax_ph.set_ylabel('Phase (°)')\n",
    "    ax_mag = ax_ph.twinx()\n",
    "    ax_mag.set_ylabel('Magnitude (dB)')\n",
    "\n",
    "    # Plot phase\n",
    "    cs = ['b','g','c','y']\n",
    "    for i, p in enumerate(phs[-1:0:-(hs.size // 5),:]):\n",
    "        ax_ph.plot(omega, np.degrees(np.unwrap(p)), f'{cs[i % len(cs)]}--')\n",
    "\n",
    "    ax_ph.plot([start, end], [-180, -180], 'k:')\n",
    "    ax_ph.set_xscale('log')\n",
    "\n",
    "    max_ph = max(np.ceil(np.degrees(np.max(phs))), 0) + 10\n",
    "    ax_ph.set_yticks([0, -180, -360])\n",
    "    ax_ph.set_ylim(-360-max_ph, max_ph)\n",
    "\n",
    "    # Plot oscillation frequencies\n",
    "    ax_osc.plot(\n",
    "        np.concatenate((hs, 1-hs[-1::-1])),\n",
    "        np.concatenate((osc_fs, osc_fs[-1::-1]))\n",
    "    )\n",
    "\n",
    "    # Plot dcin\n",
    "    ax_dcin.plot(\n",
    "        np.concatenate((-dcins, dcins[-1::-1])),\n",
    "        np.concatenate((2 * hs - 1, - 2 * hs[-1::-1] + 1))\n",
    "    )\n",
    "\n",
    "    # Plot dcgain\n",
    "    ax_dcgain.plot(\n",
    "        np.concatenate((2 * hs - 1, - 2 * hs[-1::-1] + 1)),\n",
    "        np.concatenate((dcgains, dcgains[-1::-1]))\n",
    "    )\n",
    "\n",
    "    # Plot magnitudes\n",
    "    mag_scaled = 20 * np.log10(dcgains[-1] * mags[-1])\n",
    "    ax_mag.plot(omega, mag_scaled, 'r-')\n",
    "    \n",
    "    max_mag = round(max(\n",
    "        *map(\n",
    "            np.abs, \n",
    "            (np.min(mag_scaled), np.max(mag_scaled))\n",
    "        ), \n",
    "        0\n",
    "    )) + 3\n",
    "    ax_mag.set_ylim(-max_mag, max_mag)\n",
    "\n",
    "    fig.tight_layout()\n",
    "\n"
   ]
  },
  {
   "cell_type": "markdown",
   "id": "d0647e9a-88b6-4a59-9226-43fafcd26db1",
   "metadata": {},
   "source": [
    "## Transfer Functions\n",
    "\n",
    "As per Bruno Putzey's 2011 paper titled [\"Global Modulated Self-Oscillating Amplifier with Improved Linearity\"](https://www.hypex.nl/media/3f/62/4a/1682342035/Globally%20modulated%20self-oscillating%20amplifier.pdf), we treat our Class-D amplifier as a square wave oscillator wrapped with a linear function. For simplicity's sake, we further split said linear function into three serial sections–the **propagation delay**, **low pass filter**, and **feedback network**. The **propagation delay** is calculated during numerical evaluation in order to avoid using a Padé approximation. Please define functions constructing transfer functions based on component values for the **low pass filter** and **feedback network** below."
   ]
  },
  {
   "cell_type": "markdown",
   "id": "488b2578-7b78-49d7-81f8-47cd352c188c",
   "metadata": {},
   "source": [
    "## Workspace"
   ]
  },
  {
   "cell_type": "code",
   "execution_count": 5,
   "id": "5d1a2c80-d6a4-40af-84fd-07a08c67f1d9",
   "metadata": {
    "scrolled": true
   },
   "outputs": [],
   "source": [
    "from modules.sapwin import Sapwin\n",
    "\n",
    "problem = Sapwin(filename='../sym_analysis/SapWin/class_d_2.out', n_fs=1_000, n_ns=200)"
   ]
  },
  {
   "cell_type": "code",
   "execution_count": 10,
   "id": "7657a1e8-b5a6-4798-8f5e-4bdace503ad7",
   "metadata": {
    "scrolled": true
   },
   "outputs": [],
   "source": [
    "from pymoo.algorithms.soo.nonconvex.de import DE\n",
    "\n",
    "algorithm = DE(\n",
    "    pop_size=1_000,\n",
    "    CR=0.9,\n",
    "    dither='vector',\n",
    "    jitter=True\n",
    ")"
   ]
  },
  {
   "cell_type": "code",
   "execution_count": null,
   "id": "a353f676-df2c-4626-905b-2bf64ee417e1",
   "metadata": {},
   "outputs": [
    {
     "name": "stdout",
     "output_type": "stream",
     "text": [
      "=================================================\n",
      "n_gen  |  n_eval  |     f_avg     |     f_min    \n",
      "=================================================\n",
      "     1 |     1000 |           INF |  0.0831944000\n",
      "     2 |     2000 |           INF |  0.0072093922\n",
      "     3 |     3000 |           INF |  0.0038254089\n",
      "     4 |     4000 |           INF |  0.0036959973\n",
      "     5 |     5000 |  0.0746866911 |  0.0034058146\n",
      "     6 |     6000 |  0.0279703229 |  0.0033449517\n",
      "     7 |     7000 |  0.0083276017 |  0.0033405563\n",
      "     8 |     8000 |  0.0051327960 |  0.0033297674\n",
      "     9 |     9000 |  0.0042231689 |  0.0033279090\n",
      "    10 |    10000 |  0.0037719064 |  0.0033160877\n",
      "    11 |    11000 |  0.0035883421 |  0.0033144409\n",
      "    12 |    12000 |  0.0034781342 |  0.0033129027\n",
      "    13 |    13000 |  0.0034111635 |  0.0033123340\n",
      "    14 |    14000 |  0.0033690134 |  0.0033103129\n",
      "    15 |    15000 |  0.0033454921 |  0.0033100238\n",
      "    16 |    16000 |  0.0033294915 |  0.0033089295\n",
      "    17 |    17000 |  0.0033207577 |  0.0033034064\n",
      "    18 |    18000 |  0.0033125946 |  0.0032979043\n",
      "    19 |    19000 |  0.0033042025 |  0.0032886751\n",
      "    20 |    20000 |  0.0032915108 |  0.0032566659\n",
      "    21 |    21000 |  0.0032610489 |  0.0030990306\n",
      "    22 |    22000 |  0.0030910036 |  0.0023629201\n",
      "    23 |    23000 |  0.0028778732 |  0.0023490854\n",
      "    24 |    24000 |  0.0027347147 |  0.0023369545\n",
      "    25 |    25000 |  0.0026102585 |  0.0023347431\n",
      "    26 |    26000 |  0.0024972629 |  0.0023328819\n",
      "    27 |    27000 |  0.0024213650 |  0.0023328819\n",
      "    28 |    28000 |  0.0023731602 |  0.0023328264\n",
      "    29 |    29000 |  0.0023546095 |  0.0023327179\n",
      "    30 |    30000 |  0.0023396006 |  0.0023324001\n",
      "    31 |    31000 |  0.0023352771 |  0.0023321628\n",
      "    32 |    32000 |  0.0023338584 |  0.0023320949\n",
      "    33 |    33000 |  0.0023331123 |  0.0023320737\n",
      "    34 |    34000 |  0.0023327255 |  0.0023320473\n",
      "    35 |    35000 |  0.0023324637 |  0.0023320360\n",
      "    36 |    36000 |  0.0023323043 |  0.0023320360\n",
      "    37 |    37000 |  0.0023322032 |  0.0023320360\n",
      "    38 |    38000 |  0.0023321393 |  0.0023320341\n",
      "    39 |    39000 |  0.0023320990 |  0.0023320341\n",
      "    40 |    40000 |  0.0023320734 |  0.0023320335\n",
      "    41 |    41000 |  0.0023320598 |  0.0023320334\n",
      "    42 |    42000 |  0.0023320507 |  0.0023320320\n",
      "    43 |    43000 |  0.0023320440 |  0.0023320317\n",
      "    44 |    44000 |  0.0023320402 |  0.0023320296\n",
      "    45 |    45000 |  0.0023320373 |  0.0023320289\n",
      "    46 |    46000 |  0.0023320348 |  0.0023320280\n",
      "    47 |    47000 |  0.0023320330 |  0.0023320278\n",
      "    48 |    48000 |  0.0023320316 |  0.0023320274\n",
      "    49 |    49000 |  0.0023320305 |  0.0023320269\n",
      "    50 |    50000 |  0.0023320296 |  0.0023320261\n",
      "    51 |    51000 |  0.0023320289 |  0.0023320254\n",
      "    52 |    52000 |  0.0023320282 |  0.0023320247\n",
      "    53 |    53000 |  0.0023320276 |  0.0023320241\n",
      "    54 |    54000 |  0.0023320274 |  0.0023320241\n",
      "    55 |    55000 |  0.0023320271 |  0.0023320241\n",
      "    56 |    56000 |  0.0023320268 |  0.0023320241\n",
      "    57 |    57000 |  0.0023320265 |  0.0023320241\n",
      "    58 |    58000 |  0.0023320262 |  0.0023320241\n",
      "    59 |    59000 |  0.0023320260 |  0.0023320241\n",
      "    60 |    60000 |  0.0023320258 |  0.0023320240\n",
      "    61 |    61000 |  0.0023320257 |  0.0023320240\n",
      "    62 |    62000 |  0.0023320255 |  0.0023320240\n",
      "    63 |    63000 |  0.0023320254 |  0.0023320240\n",
      "    64 |    64000 |  0.0023320253 |  0.0023320240\n",
      "    65 |    65000 |  0.0023320252 |  0.0023320240\n",
      "    66 |    66000 |  0.0023320251 |  0.0023320240\n"
     ]
    }
   ],
   "source": [
    "from pymoo.optimize import minimize\n",
    "\n",
    "res = minimize(\n",
    "    problem,\n",
    "    algorithm,\n",
    "    termination=('n_gen', 100),\n",
    "    seed=1,\n",
    "    save_history=True,\n",
    "    verbose=True\n",
    ")"
   ]
  },
  {
   "cell_type": "code",
   "execution_count": null,
   "id": "1208a10d-abd3-431a-a21c-67b0514d7743",
   "metadata": {},
   "outputs": [],
   "source": [
    "X = res.X\n",
    "F = res.F"
   ]
  },
  {
   "cell_type": "code",
   "execution_count": null,
   "id": "7287518c-233a-433b-bee3-2814f3a40cd0",
   "metadata": {},
   "outputs": [],
   "source": [
    "vals = X[:-1][None,:]\n",
    "delay = X[-1]\n",
    "\n",
    "num = problem._calc_num(vals)[0,::-1]\n",
    "den = problem._calc_den(vals)[0,::-1]\n",
    "\n",
    "plot(ct.tf(num, den), 10, 2e7, delay)"
   ]
  },
  {
   "cell_type": "code",
   "execution_count": null,
   "id": "1db9e16b-a6df-494e-a53d-a690e678b23c",
   "metadata": {},
   "outputs": [],
   "source": []
  }
 ],
 "metadata": {
  "kernelspec": {
   "display_name": "class_d_amp",
   "language": "python",
   "name": "class_d_amp"
  },
  "language_info": {
   "codemirror_mode": {
    "name": "ipython",
    "version": 3
   },
   "file_extension": ".py",
   "mimetype": "text/x-python",
   "name": "python",
   "nbconvert_exporter": "python",
   "pygments_lexer": "ipython3",
   "version": "3.12.7"
  }
 },
 "nbformat": 4,
 "nbformat_minor": 5
}
