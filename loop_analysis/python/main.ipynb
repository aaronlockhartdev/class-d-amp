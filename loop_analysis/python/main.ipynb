{
 "cells": [
  {
   "cell_type": "markdown",
   "id": "c172f8cd-ca79-4d21-a342-c6aa86e4e66a",
   "metadata": {},
   "source": [
    "## Packages\n",
    "Install necessary packages: numpy, control, and multiprocessing."
   ]
  },
  {
   "cell_type": "code",
   "execution_count": 1,
   "id": "3a1ab5f2-273c-4d2b-8ffe-6043a951214d",
   "metadata": {
    "scrolled": true
   },
   "outputs": [
    {
     "name": "stdout",
     "output_type": "stream",
     "text": [
      "Requirement already satisfied: pymoo in /home/aaron/.pyenv/versions/3.11.10/lib/python3.11/site-packages (from -r requirements.txt (line 1)) (0.6.1.3)\n",
      "Requirement already satisfied: numba in /home/aaron/.pyenv/versions/3.11.10/lib/python3.11/site-packages (from -r requirements.txt (line 2)) (0.60.0)\n",
      "Requirement already satisfied: control in /home/aaron/.pyenv/versions/3.11.10/lib/python3.11/site-packages (from -r requirements.txt (line 3)) (0.10.1)\n",
      "Requirement already satisfied: matplotlib in /home/aaron/.pyenv/versions/3.11.10/lib/python3.11/site-packages (from -r requirements.txt (line 4)) (3.9.2)\n",
      "Requirement already satisfied: ipympl in /home/aaron/.pyenv/versions/3.11.10/lib/python3.11/site-packages (from -r requirements.txt (line 5)) (0.9.4)\n",
      "Requirement already satisfied: sympy in /home/aaron/.pyenv/versions/3.11.10/lib/python3.11/site-packages (from -r requirements.txt (line 6)) (1.13.3)\n",
      "Requirement already satisfied: gmpy2 in /home/aaron/.pyenv/versions/3.11.10/lib/python3.11/site-packages (from -r requirements.txt (line 7)) (2.2.1)\n",
      "Requirement already satisfied: symengine in /home/aaron/.pyenv/versions/3.11.10/lib/python3.11/site-packages (from -r requirements.txt (line 8)) (0.13.0)\n",
      "Requirement already satisfied: numpy>=1.15 in /home/aaron/.pyenv/versions/3.11.10/lib/python3.11/site-packages (from pymoo->-r requirements.txt (line 1)) (2.0.2)\n",
      "Requirement already satisfied: scipy>=1.1 in /home/aaron/.pyenv/versions/3.11.10/lib/python3.11/site-packages (from pymoo->-r requirements.txt (line 1)) (1.14.1)\n",
      "Requirement already satisfied: autograd>=1.4 in /home/aaron/.pyenv/versions/3.11.10/lib/python3.11/site-packages (from pymoo->-r requirements.txt (line 1)) (1.7.0)\n",
      "Requirement already satisfied: cma==3.2.2 in /home/aaron/.pyenv/versions/3.11.10/lib/python3.11/site-packages (from pymoo->-r requirements.txt (line 1)) (3.2.2)\n",
      "Requirement already satisfied: alive-progress in /home/aaron/.pyenv/versions/3.11.10/lib/python3.11/site-packages (from pymoo->-r requirements.txt (line 1)) (3.2.0)\n",
      "Requirement already satisfied: dill in /home/aaron/.pyenv/versions/3.11.10/lib/python3.11/site-packages (from pymoo->-r requirements.txt (line 1)) (0.3.9)\n",
      "Requirement already satisfied: Deprecated in /home/aaron/.pyenv/versions/3.11.10/lib/python3.11/site-packages (from pymoo->-r requirements.txt (line 1)) (1.2.15)\n",
      "Requirement already satisfied: llvmlite<0.44,>=0.43.0dev0 in /home/aaron/.pyenv/versions/3.11.10/lib/python3.11/site-packages (from numba->-r requirements.txt (line 2)) (0.43.0)\n",
      "Requirement already satisfied: contourpy>=1.0.1 in /home/aaron/.pyenv/versions/3.11.10/lib/python3.11/site-packages (from matplotlib->-r requirements.txt (line 4)) (1.3.1)\n",
      "Requirement already satisfied: cycler>=0.10 in /home/aaron/.pyenv/versions/3.11.10/lib/python3.11/site-packages (from matplotlib->-r requirements.txt (line 4)) (0.12.1)\n",
      "Requirement already satisfied: fonttools>=4.22.0 in /home/aaron/.pyenv/versions/3.11.10/lib/python3.11/site-packages (from matplotlib->-r requirements.txt (line 4)) (4.55.0)\n",
      "Requirement already satisfied: kiwisolver>=1.3.1 in /home/aaron/.pyenv/versions/3.11.10/lib/python3.11/site-packages (from matplotlib->-r requirements.txt (line 4)) (1.4.7)\n",
      "Requirement already satisfied: packaging>=20.0 in /home/aaron/.pyenv/versions/3.11.10/lib/python3.11/site-packages (from matplotlib->-r requirements.txt (line 4)) (24.2)\n",
      "Requirement already satisfied: pillow>=8 in /home/aaron/.pyenv/versions/3.11.10/lib/python3.11/site-packages (from matplotlib->-r requirements.txt (line 4)) (11.0.0)\n",
      "Requirement already satisfied: pyparsing>=2.3.1 in /home/aaron/.pyenv/versions/3.11.10/lib/python3.11/site-packages (from matplotlib->-r requirements.txt (line 4)) (3.2.0)\n",
      "Requirement already satisfied: python-dateutil>=2.7 in /home/aaron/.pyenv/versions/3.11.10/lib/python3.11/site-packages (from matplotlib->-r requirements.txt (line 4)) (2.9.0.post0)\n",
      "Requirement already satisfied: ipython-genutils in /home/aaron/.pyenv/versions/3.11.10/lib/python3.11/site-packages (from ipympl->-r requirements.txt (line 5)) (0.2.0)\n",
      "Requirement already satisfied: ipython<9 in /home/aaron/.pyenv/versions/3.11.10/lib/python3.11/site-packages (from ipympl->-r requirements.txt (line 5)) (8.29.0)\n",
      "Requirement already satisfied: ipywidgets<9,>=7.6.0 in /home/aaron/.pyenv/versions/3.11.10/lib/python3.11/site-packages (from ipympl->-r requirements.txt (line 5)) (8.1.5)\n",
      "Requirement already satisfied: traitlets<6 in /home/aaron/.pyenv/versions/3.11.10/lib/python3.11/site-packages (from ipympl->-r requirements.txt (line 5)) (5.14.3)\n",
      "Requirement already satisfied: mpmath<1.4,>=1.1.0 in /home/aaron/.pyenv/versions/3.11.10/lib/python3.11/site-packages (from sympy->-r requirements.txt (line 6)) (1.3.0)\n",
      "Requirement already satisfied: decorator in /home/aaron/.pyenv/versions/3.11.10/lib/python3.11/site-packages (from ipython<9->ipympl->-r requirements.txt (line 5)) (5.1.1)\n",
      "Requirement already satisfied: jedi>=0.16 in /home/aaron/.pyenv/versions/3.11.10/lib/python3.11/site-packages (from ipython<9->ipympl->-r requirements.txt (line 5)) (0.19.2)\n",
      "Requirement already satisfied: matplotlib-inline in /home/aaron/.pyenv/versions/3.11.10/lib/python3.11/site-packages (from ipython<9->ipympl->-r requirements.txt (line 5)) (0.1.7)\n",
      "Requirement already satisfied: prompt-toolkit<3.1.0,>=3.0.41 in /home/aaron/.pyenv/versions/3.11.10/lib/python3.11/site-packages (from ipython<9->ipympl->-r requirements.txt (line 5)) (3.0.48)\n",
      "Requirement already satisfied: pygments>=2.4.0 in /home/aaron/.pyenv/versions/3.11.10/lib/python3.11/site-packages (from ipython<9->ipympl->-r requirements.txt (line 5)) (2.18.0)\n",
      "Requirement already satisfied: stack-data in /home/aaron/.pyenv/versions/3.11.10/lib/python3.11/site-packages (from ipython<9->ipympl->-r requirements.txt (line 5)) (0.6.3)\n",
      "Requirement already satisfied: typing-extensions>=4.6 in /home/aaron/.pyenv/versions/3.11.10/lib/python3.11/site-packages (from ipython<9->ipympl->-r requirements.txt (line 5)) (4.12.2)\n",
      "Requirement already satisfied: pexpect>4.3 in /home/aaron/.pyenv/versions/3.11.10/lib/python3.11/site-packages (from ipython<9->ipympl->-r requirements.txt (line 5)) (4.9.0)\n",
      "Requirement already satisfied: comm>=0.1.3 in /home/aaron/.pyenv/versions/3.11.10/lib/python3.11/site-packages (from ipywidgets<9,>=7.6.0->ipympl->-r requirements.txt (line 5)) (0.2.2)\n",
      "Requirement already satisfied: widgetsnbextension~=4.0.12 in /home/aaron/.pyenv/versions/3.11.10/lib/python3.11/site-packages (from ipywidgets<9,>=7.6.0->ipympl->-r requirements.txt (line 5)) (4.0.13)\n",
      "Requirement already satisfied: jupyterlab-widgets~=3.0.12 in /home/aaron/.pyenv/versions/3.11.10/lib/python3.11/site-packages (from ipywidgets<9,>=7.6.0->ipympl->-r requirements.txt (line 5)) (3.0.13)\n",
      "Requirement already satisfied: six>=1.5 in /home/aaron/.pyenv/versions/3.11.10/lib/python3.11/site-packages (from python-dateutil>=2.7->matplotlib->-r requirements.txt (line 4)) (1.16.0)\n",
      "Requirement already satisfied: about-time==4.2.1 in /home/aaron/.pyenv/versions/3.11.10/lib/python3.11/site-packages (from alive-progress->pymoo->-r requirements.txt (line 1)) (4.2.1)\n",
      "Requirement already satisfied: grapheme==0.6.0 in /home/aaron/.pyenv/versions/3.11.10/lib/python3.11/site-packages (from alive-progress->pymoo->-r requirements.txt (line 1)) (0.6.0)\n",
      "Requirement already satisfied: wrapt<2,>=1.10 in /home/aaron/.pyenv/versions/3.11.10/lib/python3.11/site-packages (from Deprecated->pymoo->-r requirements.txt (line 1)) (1.17.0)\n",
      "Requirement already satisfied: parso<0.9.0,>=0.8.4 in /home/aaron/.pyenv/versions/3.11.10/lib/python3.11/site-packages (from jedi>=0.16->ipython<9->ipympl->-r requirements.txt (line 5)) (0.8.4)\n",
      "Requirement already satisfied: ptyprocess>=0.5 in /home/aaron/.pyenv/versions/3.11.10/lib/python3.11/site-packages (from pexpect>4.3->ipython<9->ipympl->-r requirements.txt (line 5)) (0.7.0)\n",
      "Requirement already satisfied: wcwidth in /home/aaron/.pyenv/versions/3.11.10/lib/python3.11/site-packages (from prompt-toolkit<3.1.0,>=3.0.41->ipython<9->ipympl->-r requirements.txt (line 5)) (0.2.13)\n",
      "Requirement already satisfied: executing>=1.2.0 in /home/aaron/.pyenv/versions/3.11.10/lib/python3.11/site-packages (from stack-data->ipython<9->ipympl->-r requirements.txt (line 5)) (2.1.0)\n",
      "Requirement already satisfied: asttokens>=2.1.0 in /home/aaron/.pyenv/versions/3.11.10/lib/python3.11/site-packages (from stack-data->ipython<9->ipympl->-r requirements.txt (line 5)) (2.4.1)\n",
      "Requirement already satisfied: pure-eval in /home/aaron/.pyenv/versions/3.11.10/lib/python3.11/site-packages (from stack-data->ipython<9->ipympl->-r requirements.txt (line 5)) (0.2.3)\n",
      "\n",
      "\u001b[1m[\u001b[0m\u001b[34;49mnotice\u001b[0m\u001b[1;39;49m]\u001b[0m\u001b[39;49m A new release of pip is available: \u001b[0m\u001b[31;49m24.0\u001b[0m\u001b[39;49m -> \u001b[0m\u001b[32;49m24.3.1\u001b[0m\n",
      "\u001b[1m[\u001b[0m\u001b[34;49mnotice\u001b[0m\u001b[1;39;49m]\u001b[0m\u001b[39;49m To update, run: \u001b[0m\u001b[32;49mpip install --upgrade pip\u001b[0m\n"
     ]
    }
   ],
   "source": [
    "!pip install -r requirements.txt -U"
   ]
  },
  {
   "cell_type": "code",
   "execution_count": 2,
   "id": "dda4af61-6763-474a-a36c-a1ffd982c262",
   "metadata": {
    "scrolled": true
   },
   "outputs": [],
   "source": [
    "# Import necessary packages\n",
    "import re\n",
    "\n",
    "import numpy as np\n",
    "import control as ct\n",
    "\n",
    "from typing import Callable, Tuple\n",
    "\n",
    "import matplotlib.pyplot as plt"
   ]
  },
  {
   "cell_type": "markdown",
   "id": "676cde1e-b4a5-4d1d-b2d4-31bcfda8b02b",
   "metadata": {},
   "source": [
    "## Plot\n",
    "Given a transfer function **H**, frequency range **\\[start, end\\]**, and propagation delay **delay**, we numerically approximate the transfer function given a square wave amplifier, which theoretically produces an infinite number of harmonics. If there is no propagation delay or it is already approximated in the transfer function, **delay** defaults to the floating point ε to approximate the limit form mentioned in Putzey's paper."
   ]
  },
  {
   "cell_type": "code",
   "execution_count": 3,
   "id": "c715b7ff-978e-43d9-b260-9790ec7a3042",
   "metadata": {},
   "outputs": [],
   "source": [
    "from modules.calc_resp import precompute_consts, calc_resp\n",
    "\n",
    "def calc(\n",
    "    H: ct.TransferFunction, \n",
    "    start: float, \n",
    "    end: float, \n",
    "    delay=np.finfo(np.longdouble).eps,\n",
    "    num_freqs=1_000,\n",
    "    num_duty_cycles=100,\n",
    "    num_harmonics=100.\n",
    ") -> Tuple[np.ndarray]:\n",
    "    consts = list(precompute_consts(num_freqs, num_duty_cycles, num_harmonics, (start, end)))\n",
    "    \n",
    "    mags, phs, osc_fs, dcins, dcgains, margins = calc_resp(np.array(H.num[0])[:,::-1], np.array(H.den[0])[:,::-1], np.array([delay]), *consts)\n",
    "\n",
    "    margins = np.degrees(margins)\n",
    "    print(np.min(margins, axis=1))\n",
    "    consts[0] = np.imag(consts[0]) / (2 * np.pi)\n",
    "    osc_fs /= 2 * np.pi\n",
    "    phs -= np.pi\n",
    "\n",
    "    return (mags[0], phs[0], osc_fs[0], dcins[0], dcgains[0]), consts[:3]"
   ]
  },
  {
   "cell_type": "code",
   "execution_count": 4,
   "id": "cc8fc33f-ab81-440e-99c9-d7296548407b",
   "metadata": {
    "editable": true,
    "slideshow": {
     "slide_type": ""
    },
    "tags": []
   },
   "outputs": [],
   "source": [
    "def plot(\n",
    "    H: ct.TransferFunction, \n",
    "    start: float, \n",
    "    end: float, \n",
    "    delay=np.finfo(np.longdouble).eps\n",
    ") -> None:\n",
    "    \"\"\" Takes a SISO transfer function `H` and plots phase response and loop gain vs.\n",
    "    frequency, oscillation frequency vs. duty cycle, DC transfer curve, and loop gain \n",
    "    vs. duty cycle. \"\"\"\n",
    "\n",
    "    (mags, phs, osc_fs, dcins, dcgains), (omega, hs, ns) = calc(H, start, end, delay)\n",
    "    \n",
    "    # Plotting\n",
    "    fig, ((ax_ph, ax_dcgain), (ax_osc, ax_dcin)) = plt.subplots(2,2)\n",
    "\n",
    "    # Set figure labels\n",
    "    ax_osc.set_ylabel('Osc. Freq. (Hz)')\n",
    "    ax_osc.set_xlabel('Duty Cycle')\n",
    "\n",
    "    ax_ph.set_xlabel('Frequency (Hz)')\n",
    "    ax_ph.set_ylabel('Phase (°)')\n",
    "    ax_mag = ax_ph.twinx()\n",
    "    ax_mag.set_ylabel('Magnitude (dB)')\n",
    "\n",
    "    # Plot phase\n",
    "    cs = ['b','g','c','y']\n",
    "    for i, p in enumerate(phs[-1:0:-(hs.size // 5),:]):\n",
    "        ax_ph.plot(omega, np.degrees(np.unwrap(p)), f'{cs[i % len(cs)]}--')\n",
    "\n",
    "    ax_ph.plot([start, end], [-180, -180], 'k:')\n",
    "    ax_ph.set_xscale('log')\n",
    "\n",
    "    max_ph = max(np.ceil(np.degrees(np.max(phs))), 0) + 10\n",
    "    ax_ph.set_yticks([0, -180, -360])\n",
    "    ax_ph.set_ylim(-360-max_ph, max_ph)\n",
    "\n",
    "    # Plot oscillation frequencies\n",
    "    ax_osc.plot(\n",
    "        np.concatenate((hs, 1-hs[-1::-1])),\n",
    "        np.concatenate((osc_fs, osc_fs[-1::-1]))\n",
    "    )\n",
    "\n",
    "    # Plot dcin\n",
    "    ax_dcin.plot(\n",
    "        np.concatenate((-dcins, dcins[-1::-1])),\n",
    "        np.concatenate((2 * hs - 1, - 2 * hs[-1::-1] + 1))\n",
    "    )\n",
    "\n",
    "    # Plot dcgain\n",
    "    ax_dcgain.plot(\n",
    "        np.concatenate((2 * hs - 1, - 2 * hs[-1::-1] + 1)),\n",
    "        np.concatenate((dcgains, dcgains[-1::-1]))\n",
    "    )\n",
    "\n",
    "    # Plot magnitudes\n",
    "    mag_scaled = 20 * np.log10(dcgains[-1] * np.absolute(H(2j * np.pi * omega)))\n",
    "    ax_mag.plot(omega, mag_scaled, 'r-')\n",
    "    \n",
    "    max_mag = round(max(\n",
    "        *map(\n",
    "            np.abs, \n",
    "            (np.min(mag_scaled), np.max(mag_scaled))\n",
    "        ), \n",
    "        0\n",
    "    )) + 3\n",
    "    ax_mag.set_ylim(-max_mag, max_mag)\n",
    "\n",
    "    fig.tight_layout()\n",
    "\n"
   ]
  },
  {
   "cell_type": "markdown",
   "id": "d0647e9a-88b6-4a59-9226-43fafcd26db1",
   "metadata": {},
   "source": [
    "## Transfer Functions\n",
    "\n",
    "As per Bruno Putzey's 2011 paper titled [\"Global Modulated Self-Oscillating Amplifier with Improved Linearity\"](https://www.hypex.nl/media/3f/62/4a/1682342035/Globally%20modulated%20self-oscillating%20amplifier.pdf), we treat our Class-D amplifier as a square wave oscillator wrapped with a linear function. For simplicity's sake, we further split said linear function into three serial sections–the **propagation delay**, **low pass filter**, and **feedback network**. The **propagation delay** is calculated during numerical evaluation in order to avoid using a Padé approximation. Please define functions constructing transfer functions based on component values for the **low pass filter** and **feedback network** below."
   ]
  },
  {
   "cell_type": "markdown",
   "id": "488b2578-7b78-49d7-81f8-47cd352c188c",
   "metadata": {},
   "source": [
    "## Workspace"
   ]
  },
  {
   "cell_type": "code",
   "execution_count": 5,
   "id": "5d1a2c80-d6a4-40af-84fd-07a08c67f1d9",
   "metadata": {
    "scrolled": true
   },
   "outputs": [],
   "source": [
    "from modules.sapwin import Sapwin\n",
    "\n",
    "problem = Sapwin(filename='../sym_analysis/SapWin/class_d_3.out', n_fs=1_000, n_hs=20, n_ns=150)"
   ]
  },
  {
   "cell_type": "code",
   "execution_count": 6,
   "id": "7657a1e8-b5a6-4798-8f5e-4bdace503ad7",
   "metadata": {
    "scrolled": true
   },
   "outputs": [],
   "source": [
    "from pymoo.algorithms.soo.nonconvex.de import DE\n",
    "from pymoo.operators.sampling.lhs import LHS\n",
    "\n",
    "algorithm = DE(\n",
    "    pop_size=500,\n",
    "    sampling=LHS(),\n",
    "    variant='DE/best/1/bin',\n",
    "    CR=0.9,\n",
    "    F=1.8,\n",
    "    dither='vector',\n",
    "    jitter=True\n",
    ")"
   ]
  },
  {
   "cell_type": "code",
   "execution_count": 7,
   "id": "f51e6c48-87c7-4a2c-a0f3-649c49b5e52f",
   "metadata": {},
   "outputs": [],
   "source": [
    "from numba import set_num_threads\n",
    "set_num_threads(2)"
   ]
  },
  {
   "cell_type": "code",
   "execution_count": 8,
   "id": "a353f676-df2c-4626-905b-2bf64ee417e1",
   "metadata": {},
   "outputs": [
    {
     "name": "stderr",
     "output_type": "stream",
     "text": [
      "/mnt/c/Users/Aaron/Documents/GitHub/class-d-amp/loop_analysis/python/.venv/lib/python3.12/site-packages/numpy/_core/_methods.py:127: RuntimeWarning: overflow encountered in reduce\n",
      "  ret = umr_sum(arr, axis, dtype, out, keepdims, where=where)\n"
     ]
    },
    {
     "name": "stdout",
     "output_type": "stream",
     "text": [
      "=================================================\n",
      "n_gen  |  n_eval  |     f_avg     |     f_min    \n",
      "=================================================\n",
      "     1 |      500 |           INF |  0.8450516413\n",
      "     2 |     1000 | 3.595386E+305 |  0.0126264777\n",
      "     3 |     1500 |  3.650335E+03 |  0.0108788538\n",
      "     4 |     2000 |  1.419280E+03 |  0.0099446171\n",
      "     5 |     2500 |  2.220437E+02 |  0.0020283586\n",
      "     6 |     3000 |  2.354918E+01 |  0.0004968391\n",
      "     7 |     3500 |  1.236963E+01 |  0.0004968391\n",
      "     8 |     4000 |  7.3295661854 |  0.0004968391\n",
      "     9 |     4500 |  3.8250982369 |  0.0003204271\n",
      "    10 |     5000 |  2.2330342570 |  0.0003204271\n",
      "    11 |     5500 |  1.4578163052 |  0.0002831953\n",
      "    12 |     6000 |  1.2890844558 |  0.0002831953\n",
      "    13 |     6500 |  1.2478845812 |  0.0002831953\n",
      "    14 |     7000 |  0.4482482097 |  0.0002831953\n",
      "    15 |     7500 |  0.3024624788 |  0.0002831953\n",
      "    16 |     8000 |  0.2642038162 |  0.0002831953\n",
      "    17 |     8500 |  0.2164973620 |  0.0002831953\n",
      "    18 |     9000 |  0.1620473914 |  0.0002708076\n",
      "    19 |     9500 |  0.0448109566 |  0.0002708076\n",
      "    20 |    10000 |  0.0407484131 |  0.0002459553\n",
      "    21 |    10500 |  0.0092718739 |  0.0002459553\n",
      "    22 |    11000 |  0.0080704404 |  0.0002459553\n",
      "    23 |    11500 |  0.0050415077 |  0.0002459553\n",
      "    24 |    12000 |  0.0040755202 |  0.0002459553\n",
      "    25 |    12500 |  0.0033511922 |  0.0002459553\n",
      "    26 |    13000 |  0.0029299312 |  0.0002459553\n",
      "    27 |    13500 |  0.0025275302 |  0.0002459553\n",
      "    28 |    14000 |  0.0022448277 |  0.0002459553\n",
      "    29 |    14500 |  0.0019770543 |  0.0002441367\n",
      "    30 |    15000 |  0.0018153019 |  0.0002441367\n",
      "    31 |    15500 |  0.0016285237 |  0.0002441367\n",
      "    32 |    16000 |  0.0014677560 |  0.0002441367\n",
      "    33 |    16500 |  0.0013480027 |  0.0002441367\n",
      "    34 |    17000 |  0.0012820995 |  0.0002441367\n",
      "    35 |    17500 |  0.0011709337 |  0.0002441367\n",
      "    36 |    18000 |  0.0010864689 |  0.0002441367\n",
      "    37 |    18500 |  0.0010346132 |  0.0002436106\n",
      "    38 |    19000 |  0.0009305182 |  0.0002436106\n",
      "    39 |    19500 |  0.0008386705 |  0.0002436106\n",
      "    40 |    20000 |  0.0007688455 |  0.0002436106\n",
      "    41 |    20500 |  0.0007232762 |  0.0002362794\n",
      "    42 |    21000 |  0.0006956105 |  0.0002362794\n",
      "    43 |    21500 |  0.0006661797 |  0.0002362794\n",
      "    44 |    22000 |  0.0006495451 |  0.0002362794\n",
      "    45 |    22500 |  0.0006241815 |  0.0002362794\n",
      "    46 |    23000 |  0.0006028710 |  0.0002362794\n",
      "    47 |    23500 |  0.0005844299 |  0.0002362794\n",
      "    48 |    24000 |  0.0005687400 |  0.0002362794\n",
      "    49 |    24500 |  0.0005573029 |  0.0002362794\n",
      "    50 |    25000 |  0.0005356783 |  0.0002362794\n",
      "    51 |    25500 |  0.0005247977 |  0.0002362794\n",
      "    52 |    26000 |  0.0005046470 |  0.0002362794\n",
      "    53 |    26500 |  0.0004913135 |  0.0002362794\n",
      "    54 |    27000 |  0.0004829106 |  0.0002362794\n",
      "    55 |    27500 |  0.0004728780 |  0.0002362794\n",
      "    56 |    28000 |  0.0004646020 |  0.0002362794\n",
      "    57 |    28500 |  0.0004592436 |  0.0002362794\n",
      "    58 |    29000 |  0.0004462322 |  0.0002353442\n",
      "    59 |    29500 |  0.0004416950 |  0.0002353442\n",
      "    60 |    30000 |  0.0004369733 |  0.0002353442\n",
      "    61 |    30500 |  0.0004332682 |  0.0002353442\n"
     ]
    },
    {
     "name": "stderr",
     "output_type": "stream",
     "text": [
      "/mnt/c/Users/Aaron/Documents/GitHub/class-d-amp/loop_analysis/python/modules/problem.py:59: RuntimeWarning: overflow encountered in multiply\n",
      "  min_gain = 1 / np.min((mag[:,None,f_band] * dcgains[:,p_band,None]), axis=(1,2))\n"
     ]
    },
    {
     "name": "stdout",
     "output_type": "stream",
     "text": [
      "    62 |    31000 |  0.0004251378 |  0.0002353442\n",
      "    63 |    31500 |  0.0004206901 |  0.0002353442\n",
      "    64 |    32000 |  0.0004151215 |  0.0002353442\n",
      "    65 |    32500 |  0.0004122870 |  0.0002353442\n",
      "    66 |    33000 |  0.0004068298 |  0.0002353442\n",
      "    67 |    33500 |  0.0004015964 |  0.0002353442\n",
      "    68 |    34000 |  0.0003984988 |  0.0002353442\n",
      "    69 |    34500 |  0.0003934140 |  0.0002353442\n",
      "    70 |    35000 |  0.0003903360 |  0.0002353442\n",
      "    71 |    35500 |  0.0003873634 |  0.0002353442\n",
      "    72 |    36000 |  0.0003832797 |  0.0002349300\n",
      "    73 |    36500 |  0.0003809727 |  0.0002349300\n",
      "    74 |    37000 |  0.0003787092 |  0.0002349300\n",
      "    75 |    37500 |  0.0003771202 |  0.0002349300\n",
      "    76 |    38000 |  0.0003739515 |  0.0002349300\n",
      "    77 |    38500 |  0.0003709480 |  0.0002349300\n",
      "    78 |    39000 |  0.0003695278 |  0.0002349300\n",
      "    79 |    39500 |  0.0003649764 |  0.0002238666\n",
      "    80 |    40000 |  0.0003560745 |  0.0002004428\n",
      "    81 |    40500 |  0.0003503849 |  0.0001477060\n",
      "    82 |    41000 |  0.0003458284 |  0.0001477060\n",
      "    83 |    41500 |  0.0003408985 |  0.0001477060\n",
      "    84 |    42000 |  0.0003353889 |  0.0001334697\n",
      "    85 |    42500 |  0.0003321442 |  0.0001334697\n",
      "    86 |    43000 |  0.0003266712 |  0.0001334697\n",
      "    87 |    43500 |  0.0003217458 |  0.0001334697\n",
      "    88 |    44000 |  0.0003180852 |  0.0001334697\n",
      "    89 |    44500 |  0.0003129732 |  0.0001334697\n",
      "    90 |    45000 |  0.0003095076 |  0.0001334697\n",
      "    91 |    45500 |  0.0003062081 |  0.0001274230\n",
      "    92 |    46000 |  0.0003058274 |  0.0001274230\n",
      "    93 |    46500 |  0.0003056106 |  0.0001274230\n",
      "    94 |    47000 |  0.0003046457 |  0.0001274230\n",
      "    95 |    47500 |  0.0003037990 |  0.0001274230\n",
      "    96 |    48000 |  0.0003031337 |  0.0001274230\n",
      "    97 |    48500 |  0.0003023514 |  0.0001274230\n",
      "    98 |    49000 |  0.0003014473 |  0.0001274230\n",
      "    99 |    49500 |  0.0003012824 |  0.0001274230\n",
      "   100 |    50000 |  0.0003010057 |  0.0001274230\n"
     ]
    }
   ],
   "source": [
    "from pymoo.optimize import minimize\n",
    "\n",
    "res = minimize(\n",
    "    problem,\n",
    "    algorithm,\n",
    "    termination=('n_gen', 100),\n",
    "    seed=1,\n",
    "    save_history=True,\n",
    "    verbose=True\n",
    ")"
   ]
  },
  {
   "cell_type": "code",
   "execution_count": 9,
   "id": "1208a10d-abd3-431a-a21c-67b0514d7743",
   "metadata": {},
   "outputs": [],
   "source": [
    "X = res.X\n",
    "F = res.F"
   ]
  },
  {
   "cell_type": "code",
   "execution_count": 10,
   "id": "104133a5-d5d3-4e12-81b8-e83d83368a8b",
   "metadata": {},
   "outputs": [
    {
     "name": "stdout",
     "output_type": "stream",
     "text": [
      "Cf:9.41E-05 Cif:3.38E-05 Cl:5.66E-09 Lf:9.15E-04 R10:9.83E+04 R11:1.13E+02 R4:9.99E+04 R6:3.36E+02 Rl:1.00E+02\n"
     ]
    }
   ],
   "source": [
    "print(' '.join(map(lambda v, x: f'{v}:{x:.2E}' , problem._vars, X)))"
   ]
  },
  {
   "cell_type": "code",
   "execution_count": 11,
   "id": "7287518c-233a-433b-bee3-2814f3a40cd0",
   "metadata": {},
   "outputs": [
    {
     "name": "stdout",
     "output_type": "stream",
     "text": [
      "[268.32250806]\n"
     ]
    },
    {
     "data": {
      "image/png": "[encoded data removed]",
      "text/plain": [
       "<Figure size 640x480 with 5 Axes>"
      ]
     },
     "metadata": {},
     "output_type": "display_data"
    }
   ],
   "source": [
    "vals = X[:-1][None,:]\n",
    "delay = X[-1]\n",
    "\n",
    "num = problem._calc_num(vals)[0,::-1]\n",
    "den = problem._calc_den(vals)[0,::-1]\n",
    "\n",
    "plot(ct.tf(num, den), 10, 2e7, delay)"
   ]
  },
  {
   "cell_type": "code",
   "execution_count": null,
   "id": "cc18a912-896c-4552-829f-83a9201c048b",
   "metadata": {},
   "outputs": [],
   "source": []
  }
 ],
 "metadata": {
  "kernelspec": {
   "display_name": "class_d_amp",
   "language": "python",
   "name": "class_d_amp"
  },
  "language_info": {
   "codemirror_mode": {
    "name": "ipython",
    "version": 3
   },
   "file_extension": ".py",
   "mimetype": "text/x-python",
   "name": "python",
   "nbconvert_exporter": "python",
   "pygments_lexer": "ipython3",
   "version": "3.12.7"
  }
 },
 "nbformat": 4,
 "nbformat_minor": 5
}
