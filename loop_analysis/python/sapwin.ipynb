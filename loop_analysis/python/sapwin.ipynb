{
 "cells": [
  {
   "cell_type": "code",
   "execution_count": 1,
   "id": "0333797a-257b-4be6-93b2-0b4c972a0b3f",
   "metadata": {},
   "outputs": [],
   "source": [
    "from pymoo.algorithms.moo.nsga2 import NSGA2\n",
    "from pymoo.optimize import minimize\n",
    "\n",
    "from modules.sapwin import Sapwin"
   ]
  },
  {
   "cell_type": "code",
   "execution_count": 2,
   "id": "26e7db32-ed61-481e-88e1-8a6fee0039b8",
   "metadata": {},
   "outputs": [],
   "source": [
    "problem = Sapwin(filename='../sym_analysis/SapWin/class_d_simp.out')"
   ]
  },
  {
   "cell_type": "code",
   "execution_count": 6,
   "id": "69931078-2ab5-4cbe-8d02-63c942b43a2b",
   "metadata": {},
   "outputs": [
    {
     "name": "stdout",
     "output_type": "stream",
     "text": [
      "==========================================================\n",
      "n_gen  |  n_eval  | n_nds  |      eps      |   indicator  \n",
      "==========================================================\n",
      "     1 |     1000 |    500 |             - |             -\n",
      "     2 |     2000 |   1000 |  0.000000E+00 |             f\n",
      "     3 |     3000 |   1000 |  0.000000E+00 |             f\n",
      "     4 |     4000 |   1000 |  0.000000E+00 |             f\n",
      "     5 |     5000 |   1000 |  0.000000E+00 |             f\n",
      "     6 |     6000 |   1000 |  0.000000E+00 |             f\n",
      "     7 |     7000 |   1000 |  0.000000E+00 |             f\n",
      "     8 |     8000 |   1000 |  0.000000E+00 |             f\n",
      "     9 |     9000 |   1000 |  0.000000E+00 |             f\n",
      "    10 |    10000 |   1000 |  0.000000E+00 |             f\n"
     ]
    }
   ],
   "source": [
    "algorithm = NSGA2(pop_size=1_000)\n",
    "\n",
    "res = minimize(\n",
    "    problem,\n",
    "    algorithm,\n",
    "    termination=('n_gen', 10),\n",
    "    seed=1,\n",
    "    verbose=True\n",
    ")"
   ]
  }
 ],
 "metadata": {
  "kernelspec": {
   "display_name": "class_d_amp",
   "language": "python",
   "name": "class_d_amp"
  },
  "language_info": {
   "codemirror_mode": {
    "name": "ipython",
    "version": 3
   },
   "file_extension": ".py",
   "mimetype": "text/x-python",
   "name": "python",
   "nbconvert_exporter": "python",
   "pygments_lexer": "ipython3",
   "version": "3.11.9"
  }
 },
 "nbformat": 4,
 "nbformat_minor": 5
}
