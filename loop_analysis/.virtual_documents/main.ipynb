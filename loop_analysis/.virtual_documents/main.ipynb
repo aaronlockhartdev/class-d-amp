


get_ipython().getoutput("pip install numpy control multiprocess matplotlib pymoo sympy ipympl -U")


# Import necessary packages
import re

import numpy as np
import control as ct

from typing import Callable, Tuple
from multiprocess import Pool

import matplotlib.pyplot as plt





from modules.calc_resp import precompute_consts, calc_resp

def calc_ext(
    H: ct.TransferFunction, 
    start: float, 
    end: float, 
    delay=np.finfo(np.longdouble).eps,
    num_freqs=1_000,
    num_duty_cycles=100,
    num_harmonics=100.
) -> Tuple[np.ndarray]:
    consts = list(precompute_consts(num_freqs, num_duty_cycles, num_harmonics, (start, end)))
    
    mags, phs, osc_fs, dcins, dcgains = calc_resp(np.array(H.num[0]).T[::-1,:], np.array(H.den[0]).T[::-1,:], np.array([delay]), *consts)
    
    consts[0] = np.real(consts[0] / (2j * np.pi))
    osc_fs /= 2 * np.pi
    phs -= np.pi

    return (mags[0], phs[0], osc_fs[0], dcins[0], dcgains[0]), consts[:3]


def plot(
    H: ct.TransferFunction, 
    start: float, 
    end: float, 
    delay=np.finfo(np.longdouble).eps
) -> None:
    """ Takes a SISO transfer function `H` and plots phase response and loop gain vs.
    frequency, oscillation frequency vs. duty cycle, DC transfer curve, and loop gain 
    vs. duty cycle. """

    (mags, phs, osc_fs, dcins, dcgains), (omega, hs, ns) = calc_ext(H, start, end, delay)
          
    # Plotting
    fig, ((ax_ph, ax_dcgain), (ax_osc, ax_dcin)) = plt.subplots(2,2)

    # Set figure labels
    ax_osc.set_ylabel('Osc. Freq. (Hz)')
    ax_osc.set_xlabel('Duty Cycle')

    ax_ph.set_xlabel('Frequency (Hz)')
    ax_ph.set_ylabel('Phase (°)')
    ax_mag = ax_ph.twinx()
    ax_mag.set_ylabel('Magnitude (dB)')

    # Plot phase
    cs = ['b','g','c','y']
    for i, p in enumerate(phs[-1:0:-(hs.size // 5),:]):
        ax_ph.plot(omega, np.degrees(np.unwrap(p)), f'{cs[i % len(cs)]}--')

    ax_ph.plot([start, end], [-180, -180], 'k:')
    ax_ph.set_xscale('log')

    max_ph = max(np.ceil(np.degrees(np.max(phs))), 0) + 10
    ax_ph.set_yticks([0, -180, -360])
    ax_ph.set_ylim(-360-max_ph, max_ph)

    # Plot oscillation frequencies
    ax_osc.plot(
        np.concatenate((hs, 1-hs[-1::-1])),
        np.concatenate((osc_fs, osc_fs[-1::-1]))
    )

    # Plot dcin
    ax_dcin.plot(
        np.concatenate((-dcins, dcins[-1::-1])),
        np.concatenate((2 * hs - 1, - 2 * hs[-1::-1] + 1))
    )

    # Plot dcgain
    ax_dcgain.plot(
        np.concatenate((hs, 1-hs[-1::-1])),
        np.concatenate((dcgains, dcgains[-1::-1]))
    )

    # Plot magnitudes
    mag_scaled = 20 * np.log10(dcgains[-1] * mags[-1])
    ax_mag.plot(omega, mag_scaled, 'r-')
    
    max_mag = round(max(
        *map(
            np.abs, 
            (np.min(mag_scaled), np.max(mag_scaled))
        ), 
        0
    )) + 3
    ax_mag.set_ylim(-max_mag, max_mag)

    fig.tight_layout()







def lpf(L: float, C: float, R_load: float) -> ct.TransferFunction:
    """ Function representing a common 2nd order output filter for Class-D amplifiers.
    Returns a transfer function per the corresponding values
    """
    return ct.tf([R_load], [R_load * L * C, L, R_load])

def fbn_example(R_in, C_in, R_lead, C_lead, R_fb, R_sep) -> ct.TransferFunction:
    s = ct.tf('s')

    b = R_lead + 1 / (C_lead * s)

    a = b + R_sep

    H_n = R_in * (a + R_fb) / (R_fb * a + R_in * a + R_fb *  R_in * a * C_in * s + R_fb * R_in)

    H = (R_sep + H_n * b) / (R_sep + b)

    return H





plot(
    lpf(30e-6, 680e-9, 4) *
    fbn_example(1.8e3, 2.2e-9, 1e3, 330e-12, 8.2e3, 680),
    10, 2e6, delay=160e-9
)


out = lpf(20e-6, 3.9e-6, 4)


iff = 50e3*2*np.pi

i_stages = list()
#for fsf, q in [(1.4192, 0.5219), (1.5912, 0.8055)]:
for fsf, q in [(1.6060, 0.5103), (1.6913, 0.6112), (1.9071, 1.0234)]:
    sf = iff * fsf
    i_stages.append(ct.tf([sf**2], [1, sf/q, sf**2]))

i_i = i_stages[0] * i_stages[1]
i_o = i_stages[2]

compf = 5*iff
compr = [3, 3]
comp = ct.zpk([-compf-1j, -compf+1j], [-r * compf for r in compr], 10)

fbn = (i_i + out) * (i_o + comp)
#fbn = i_i + out * (i_o + comp)

delay = 60e-9

plt.clf()

plot_kwargs = {'Hz': True, 'dB': True, 'omega_limits': (10, 100e6)}
for tf in (comp, i_i, i_o, out, fbn, fbn * ct.tf(*ct.pade(delay, n=2))):
    ct.bode_plot(tf, **plot_kwargs)

plt.show()


out = lpf(10e-6, 2.2e-6, 4)

ifilt = 4e4*2*np.pi

compfz = 7*ifilt
comp = ct.zpk([-compfz] * 3, [-4*compfz-1j, -4*compfz+1j, -4*compfz], 10)


intf = 3e4*2*np.pi
intt = (ct.tf([intf**2], [1, intf/1, intf**2]) + 2e-2) * (1e6 / ct.tf('s'))

ff = 1
for fsf, q in [(1.4192, 0.5219), (1.5912, 0.8055)]:
    f = fsf * ifilt
    ff *= ct.tf([f**2], [1, f/q, f**2])

fbks = [1e-5, 1e-2]
ffk = 0.5
fbn = out * ((fbks[0] * ff + fbks[1] + comp) * intt + ff * fbks[0] * ffk + comp)


delay = 80e-9

plt.clf()
for tf in (out, comp, intt, ff, fbn, fbn * ct.tf(*ct.pade(delay, 2))):
    ct.bode_plot(tf, Hz=True, dB=True, omega_limits=(10, 20e6))

plt.show()


def generate(x):
    # Define tf
    cfz, cfp1, cfp2, intf, intq, intk, intzk, fff, ffq, fbk1, fbk2, ffk, delay = x
    
    comp = ct.zpk([-cfz-1j, -cfz+1j], [-cfp1-1j, -cfp1+1j, -cfp2], 1e9)
    
    intt = intk * (ct.tf([intf**2], [1, intf/intq, intf**2]) + intzk) / ct.tf('s')
    
    ff = ct.tf([fff**2], [1, fff/ffq, fff**2])
    
    fbn = lpf(15e-6, 4.7e-6, 4) * ((fbk1 * ff + fbk2 + comp) * intt + ff * fbk1 * ffk + comp)

    return fbn, delay


def fitness_fn(x, t_osc, p_band, min_ph):

    H, delay = generate(x)

    # Return early if no zero-crossing around t_osc
    omega_lr = np.linspace(0.8*t_osc, 1.2*t_osc, num=100)
    g = np.unwrap(np.angle(H(2j * np.pi * omega_lr) * np.exp(-2j * np.pi * omega_lr * delay))) > -np.pi
    
    if not np.any(g[:-1] & ~g[1:]):
        return np.inf

    # Brunt of calculation
    (mags, phs, osc_fs, dcins, dcgains, ph_margins), (omega, hs, ns) = calc(H, 100, 1e6, delay, num_duty_cycles=10, num_freqs=300, num_harmonics=15)

    osc = osc_fs[-1]

    mag = np.min((mags[-1] * dcgains[-1])[omega <= 20e3 * 2 * np.pi])

    p_band_ks = dcgains[hs > 0.5 - p_band * 0.5]
    
    ripple = (max(p_band_ks) - min(p_band_ks)) / max(p_band_ks)

    ph_m_ratio = np.count_nonzero(np.degrees(ph_margins) > min_ph) / hs.size

    return (1e-3 * abs(osc - t_osc)) + (1e3 / mag) + (1e1 * ripple) + (1e-1 / max(ph_m_ratio, 1e-3))
