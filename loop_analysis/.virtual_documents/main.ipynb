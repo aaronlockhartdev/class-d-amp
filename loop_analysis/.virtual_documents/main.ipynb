


# START_CELL_MAGIC("capture", "")
!pip install numpy control multiprocess matplotlib ipympl -U
# END_CELL_MAGIC


# Install and import necessary packages
import numpy as np
import control as ct

from multiprocess import Pool

get_ipython().run_line_magic("matplotlib", " ipympl")
import matplotlib.pyplot as plt





def plot(
    H: ct.TransferFunction, 
    start: float, 
    end: float, 
    delay=np.finfo(np.longdouble).eps
) -> None:
    """ Takes a SISO transfer function `H` and plots phase response and loop gain vs.
    frequency, oscillation frequency vs. duty cycle, DC transfer curve, and loop gain 
    vs. duty cycle. """

    # Range of frequencies
    omega = np.logspace(
        np.log10(start),
        np.log10(end),
        num=5_000,
        dtype=np.longdouble
    )
    
    # Range of duty cycles
    hs = np.linspace(0.1, 0.5, num=1_000, dtype=np.longdouble)

    with Pool() as p:
        # Range of harmonics to calculate
        ns = np.arange(1., 1_000., dtype=np.longdouble)
        
        # Avoid extra computation of Hz -> Rad/s constant
        rad = np.clongdouble(2j * np.pi)
            
        fs = np.fromiter(
            p.imap(
                lambda n: H(f := rad * n * omega) * np.exp(-delay * f), 
                ns, chunksize=ns.size // p._processes
            ),
            dtype=np.dtype((np.clongdouble,omega.size)),
            count=ns.size
        )

        def g(h: np.longdouble) -> np.ndarray:
            # Tmp variables to avoid double computation
            tmp = np.exp(rad * ns * h)
            tmp2 = (1 - (1 / tmp)) / (2 * ns)
            tmp3 = (1 - tmp) * tmp2

            # Calculate frequency response
            fr = np.einsum('a,ab->b', tmp3, fs)

            # Decompose frequency response
            mag = np.absolute(fr)
            ph = np.angle(fr)
        
            # Identify falling zero-crossings of phase (inverting power stage adds pi phase shift)
            phx = np.pi # Phase added by power stage (usually either np.pi or 0)
            g = ph + phx < 0
            assert np.any(g)
            zc = g[:-1] & ~g[1:]
            ind = zc.size - np.argmax(np.flip(zc)) - 1

            # Binary search for exact zero-crossing frequency (within eps)
            start = omega[ind]
            end = omega[ind+1]
            p_err = np.nan

            max_iters = 10000
            iters = 0
            while not np.isclose(p_err, 0., rtol=1e-8, atol=0.):
                if iters > max_iters:
                    raise ValueError(f'Binary search did not converge in {max_iters} iterations')
                # Guaranteed to run once and set mid because p_err == nan
                mid = (start + end) / 2

                tmp4 = H(f := rad * ns * mid) * np.exp(-delay * f)
                p_err = np.angle(tmp3 @ tmp4) % phx

                if p_err < phx / 2: end = mid
                else: start = mid

                iters += 1

            # Calculate dcin
            dcin = np.real((-tmp2 / 1j) @ tmp4) * (4 / np.pi)
            
            return mag, ph, mid, dcin
            

        res = np.fromiter(
            p.imap(g, hs, chunksize=hs.size // p._processes),
            dtype=np.dtype([
                ('mag', np.dtype((np.longdouble, omega.size))),
                ('ph', np.dtype((np.longdouble, omega.size))),
                ('osc_f', np.longdouble),
                ('dcin', np.longdouble)
            ]),
            count=hs.size
        )
        mags, phs, osc_fs, dcins = map(res.__getitem__, res.dtype.names)

        dcgains = np.gradient(hs * 2 - 1, -dcins)
    
    # Plotting
    fig, ((ax_ph, ax_dcgain), (ax_osc, ax_dcin)) = plt.subplots(2,2)

    # Set figure labels
    ax_osc.set_ylabel('Osc. Freq. (Hz)')
    ax_osc.set_xlabel('Duty Cycle')

    ax_ph.set_xlabel('Frequency (Hz)')
    ax_ph.set_ylabel('Phase (°)')
    ax_mag = ax_ph.twinx()
    ax_mag.set_ylabel('Magnitude (dB)')

    # Plot phase
    cs = ['b','g','c','y']
    for i, p in enumerate(phs[-1:0:-(hs.size // 5),:]):
        ax_ph.plot(omega, np.degrees(np.unwrap(p)), f'{cs[i % len(cs)]}--')

    ax_ph.plot([start, end], [-180, -180], 'k:')
    ax_ph.set_xscale('log')

    max_ph = max(np.ceil(np.degrees(np.max(phs))), 0) + 10
    ax_ph.set_yticks([0, -180, -360])
    ax_ph.set_ylim(-360-max_ph, max_ph)

    # Plot oscillation frequencies
    ax_osc.plot(
        np.concatenate((hs, 1-hs[-1::-1])),
        np.concatenate((osc_fs, osc_fs[-1::-1]))
    )

    # Plot dcin
    ax_dcin.plot(
        np.concatenate((-dcins, dcins[-1::-1])),
        np.concatenate((hs, 1-hs[-1::-1]))
    )

    # Plot dcgain
    ax_dcgain.plot(
        np.concatenate((hs, 1-hs[-1::-1])),
        np.concatenate((dcgains, dcgains[-1::-1]))
    )

    # Plot magnitude
    mag_scaled = 20 * np.log10(dcgains[-1] * np.absolute(fs[0]))
    ax_mag.plot(omega, mag_scaled, 'r-')

    max_mag = round(max(
        *map(
            np.abs, 
            (np.min(mag_scaled), np.max(mag_scaled))
        ), 
        0
    )) + 3
    ax_mag.set_ylim(-max_mag, max_mag)

    fig.tight_layout()







def lpf(L, C, R_load) -> ct.TransferFunction:
    s = ct.tf('s')

    return R_load / (R_load * L * C * s**2 + L * s + R_load)

def fbn_example(R_in, C_in, R_lead, C_lead, R_fb, R_sep) -> ct.TransferFunction:
    s = ct.tf('s')

    b = R_lead + 1 / (C_lead * s)

    a = b + R_sep

    H_n = R_in * (a + R_fb) / (R_fb * a + R_in * a + R_fb *  R_in * a * C_in * s + R_fb * R_in)

    H = (R_sep + H_n * b) / (R_sep + b)

    return H

def biquad_lead(z, p1, p2):
    return ct.zpk([z, z.real - z.imag], [p1, p2], 1)

def mfb(fc, Q):
    rad = 2*np.pi*fc
    return ct.tf([rad**2], [1, rad/Q, rad**2])


import re

def load_sapwin(filename):
    with open(filename, 'r') as f:
        lines = f.readlines()[2:]

    all_vars = set()
    num_exprs = list()
    den_exprs = list()

    lst = num_exprs
    ord_count = 0
    
    for l in lines:
        if l == '\n':
            break
        if set(l[:-1]) == {'-'}:
            ord_count = 0
            lst = den_exprs
            continue

        expr = ""
        
        parens = re.search('\(.*\)', l)
        coef = parens.group()[1:-1]
        terms = re.findall('\S+', coef)
        varss = set(re.findall('\w+', coef))
        
        tail = l[parens.span()[-1]:]
        if lap := re.search('s(\^\d+)?', tail):
            tmp = re.search('\d+', lap.group())
            ordr = int(tmp.group()) if tmp else 1
        else: ordr = 0

        all_vars.update(varss)

        prev_var = False
        for t in terms:
            if t in varss:
                if prev_var:
                    expr += "*"
                prev_var = True
                expr += f"{{{t}}}"
                continue
            expr += t
            prev_var = False
        
        while ordr < ord_count:
            lst.append(0)
            ord_count += 1

        lst.append(expr)
        ord_count += 1
        
    def func(**kwargs):
        if(kwargs.keys() < all_vars):
            print(all_vars.difference(kwargs.keys()))
            raise ValueError(f"Missing {str(all_vars.difference(kwargs.keys()))}")

        def eval_coef(lst):
            return list(map(lambda e: eval(e.format(**kwargs)), reversed(lst)))

        num, den = map(eval_coef, (num_exprs, den_exprs))
        return ct.tf(num, den)

    return func


lead_comp = 1e-1 * biquad_lead(
    -30e3+100j, -100e3, -1e6
)

mfb_int = 3e-2 * mfb(
    70e3, np.sqrt(2)
)

out_filt = lpf(22e-6, 4.7e-6, 4)

mfb_fbn = out_filt * (mfb_int + lead_comp)

print(mfb_int)

plt.clf()

plot_kwargs = {'Hz': True, 'dB': True, 'omega_limits': (10, 100e6)}
for tf in (lead_comp, mfb_int, out_filt, mfb_fbn):
    ct.bode_plot(tf, **plot_kwargs)

plt.show()


# START_CELL_MAGIC("time", "")
plot(mfb_fbn, 10, 20e6, delay=60e-9)
plt.show()
# END_CELL_MAGIC


def disp(lst):
    return np.array(lst).flatten()

for tf in (
    mfb_int,
    out_filt
):
    print(tf)
    print(*map(disp, (tf.num, tf.den)))
